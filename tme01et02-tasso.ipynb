{
 "cells": [
  {
   "cell_type": "markdown",
   "metadata": {},
   "source": [
    "IAMSI -- 2019-2020\n",
    "--------\n",
    "*&copy; Equipe pédagogique : Gauvain Bourgne, Jean-Gabriel Ganascia, Christophe Marsala.*"
   ]
  },
  {
   "cell_type": "markdown",
   "metadata": {},
   "source": [
    "# TME 1 et 2 : Jeu à 2 joueurs -  Programmation d'un joueur d'Awélé"
   ]
  },
  {
   "cell_type": "markdown",
   "metadata": {},
   "source": [
    "<font color=\"RED\" size=\"+1\">**[Q]**</font> **Indiquer dans la boîte ci-dessous vos noms et prénoms**"
   ]
  },
  {
   "cell_type": "markdown",
   "metadata": {},
   "source": [
    "Lenaïg Tasso"
   ]
  },
  {
   "cell_type": "markdown",
   "metadata": {},
   "source": [
    "<font color=\"RED\" size=\"+1\">**[Q]**</font> **Renommer ce fichier ipython**\n",
    "\n",
    "Tout en haut de cette page, cliquer sur <tt>tme01et02</tt> et rajouter à la suite de <tt>tme01et02</tt> les noms des membres du binômes séparés par un tiret.\n",
    "\n",
    "Par exemple, pour le binôme Luke Skywalker et Han Solo, le nom de fichier devient : <pre>tme01et02-Skywalker-Solo</pre>\n",
    "\n",
    "Penser à sauvegarder fréquemment le fichier en cours de travail :\n",
    "- soit en cliquant sur l'icône \"disquette\"\n",
    "- soit par la combinaison de touches [Ctrl]-S"
   ]
  },
  {
   "cell_type": "markdown",
   "metadata": {},
   "source": [
    "## Présentation"
   ]
  },
  {
   "cell_type": "markdown",
   "metadata": {},
   "source": [
    "### Objectifs des TME 1 et 2\n",
    "\n",
    "Le travail à réaliser est le suivant :\n",
    "- apprendre à utiliser jupyter-notebook\n",
    "- programmer en Python un joueur artificiel d'Awélé. Il peut être utile de commencer par prendre connaissance des règles du jeu\n",
    "  fournies en annexe à la fin de cette page (ne pas hésiter pas à faire quelques parties sur le site dont l'adresse est donnée).\n",
    "  \n",
    "*A noter* :  Il est autorisé d'écrire des fonctions auxiliaires permettant de simplifier l'écriture\n",
    "  de la fonction répondant à une question. Dans ce cas, ces fonctions doivent être dûment commentées et spécifiées.\n",
    "  "
   ]
  },
  {
   "cell_type": "markdown",
   "metadata": {},
   "source": [
    "#### Compte-rendu des séances de TME 1 et 2\n",
    "\n",
    "Le fichier ipython que vous remplissez ici fait office de compte-rendu pour ces 2 séances de TME.\n",
    "\n",
    "Il y a 2 soumissions à faire **obligatoirement** sur le site Moodle :\n",
    "- 1er compte-rendu : <font color=\"RED\">à l'issue de la première séance</font>, soumettre ce qui a été réalisé lors de la séance.\n",
    "- 2e compte-rendu : <font color=\"RED\">à l'issue de la deuxième séance</font>, soumettre la version finale du travail réalisé durant les 2 séances.\n",
    "\n",
    "Votre compte-rendu a la forme d'un unique fichier ipynb (ce fichier-ci complété, NON ZIPPE).\n"
   ]
  },
  {
   "cell_type": "markdown",
   "metadata": {},
   "source": [
    "### Grille de notation\n",
    "\n",
    "Le barème (indicatif) pour ces 2 séances de TME est le suivant :\n",
    "- implémentation correcte et effective du minimax : 10 sur 20\n",
    "- implémentation correcte et effective de l'alpha-bêta : 15 sur 20\n",
    "- implémentation d'améliorations ou d'extensions (``pour aller plus loin...'') : +0 à +3 points\n",
    "- programme commenté : -1 à +1 points\n",
    "- efficacité des fonctions :  -1 à +2 points\n",
    "\n",
    "La note finale ne dépassera pas 20."
   ]
  },
  {
   "cell_type": "markdown",
   "metadata": {},
   "source": [
    "## Apprendre à utiliser ipython notebook\n",
    "\n",
    "Ce document est dynamique: il est composé de \"boîtes\" qui peuvent être \"compilées\" par la commande \"Run Cells\" du menu \"Cell\" (ou bien en cliquant sur l'icône >| ou par la combinaison des touches [SHIFT][ENTREE]).\n",
    "\n",
    "Il y a **2 types principaux** de boîtes :\n",
    "- les boîtes \"Markdown\": tout ce qui est tapé dans ces boîtes est du texte qui sera rendu \"joliment\" après avoir été compilé. On peut y écrire des commandes en Latex pour définir des équations, et il reconnaît certaines balises HTML. En cliquant 2 fois dans une boîte Markdown compilée, on a accès à son contenu et on peut alors le modifier.\n",
    "- les boîtes \"Code\": dans ces boîtes, on écrit du code Python. La compilation de la boîte produit l'exécution de ce code Python et produit une boîte \"Out\" dans laquelle le résultat de la dernière commande est affiché. On peut y écrire tout code Python valide. Ce type de boîtes se reconnaît par \"In [n]\" inscrit à côté de leur coin haut gauche (\"n\" est un entier).\n",
    "\n",
    "Le type d'une boîte peut être modifié à l'aide du menu en haut de la page (juste au dessus du texte).\n",
    "\n",
    "L'icône \"+\" permet de créer une nouvelle boîte juste en dessous de la boîte active.\n",
    "\n",
    "L'icône avec les ciseaux permet d'effacer la boîte active (attention ! c'est **irréversible !**).\n",
    "\n",
    "Pour en savoir plus :\n",
    "- http://ipython.org/\n",
    "\n",
    "Vous pouvez aussi vous référer à la documentation Python:\n",
    "- https://www.python.org/\n",
    "\n",
    "\n",
    "Dans ce qui suit, les boîtes Markdown commençant par <font color=\"RED\" size=\"+1\">**[Q]**</font> posent des questions auxquelles il faut répondre dans la boîte qui suit directement (éventuellement, en créant des plusieurs nouvelles boîtes).\n",
    "Certaines des boîtes \"Code\" à remplir sont suivies d'une sortie \"Out[.]:\" qui montre un exemple de résultat attendu."
   ]
  },
  {
   "cell_type": "code",
   "execution_count": 1,
   "metadata": {},
   "outputs": [
    {
     "name": "stdout",
     "output_type": "stream",
     "text": [
      "Un essai quelconque :\n"
     ]
    },
    {
     "data": {
      "text/plain": [
       "5"
      ]
     },
     "execution_count": 1,
     "metadata": {},
     "output_type": "execute_result"
    }
   ],
   "source": [
    "# exemple de boîte de code :\n",
    "#    --> sélectionner cette boîte (en cliquant à l'intérieur)\n",
    "#    --> effectuer \"Run Cells\" du Menu \"Cell\" (ou bien cliquer sur l'icône >|)\n",
    "# \n",
    "\n",
    "print(\"Un essai quelconque :\")\n",
    "2+3\n"
   ]
  },
  {
   "cell_type": "markdown",
   "metadata": {},
   "source": [
    "<font color=\"RED\" size=\"+1\">**[Q]**</font> Dans la boîte \"Code\" suivante, donner les instructions Python pour effectuer le calcul : \n",
    "$$-\\frac{1}{3}\\log_2(\\frac{1}{3})-\\frac{2}{3}\\log_2(\\frac{2}{3})$$\n",
    "\n",
    "Dont la valeur à trouver est :\n",
    "    0.9182958340544896"
   ]
  },
  {
   "cell_type": "code",
   "execution_count": 5,
   "metadata": {},
   "outputs": [
    {
     "name": "stdout",
     "output_type": "stream",
     "text": [
      "0.9182958340544896\n"
     ]
    }
   ],
   "source": [
    "import numpy as np\n",
    "x=-(1/3) * np.log2(1/3)-(2/3)*np.log2(2/3)\n",
    "print(x)"
   ]
  },
  {
   "cell_type": "markdown",
   "metadata": {},
   "source": [
    "**<font style=\"BACKGROUND-COLOR: lightgray\" color='red'> Important</font>** :\n",
    "en lisant ce texte sur votre ordinateur, pensez bien à exécuter les boîtes \"Code\" dans l'ordre de leur apparition. Toute la page se comporte comme une session Python unique et il pour exécuter certaines boîtes il est nécessaire que les précédentes aient été exécutées au préalable."
   ]
  },
  {
   "cell_type": "markdown",
   "metadata": {},
   "source": [
    "Une fonction utile dans la suite est la fonction <tt>input</tt> qui permet de demander à l'entrée d'une valeur saisie au clavier."
   ]
  },
  {
   "cell_type": "code",
   "execution_count": 6,
   "metadata": {},
   "outputs": [
    {
     "name": "stdout",
     "output_type": "stream",
     "text": [
      "Entrer l'année de naissance : 2000\n",
      "Cela fait donc 20  ans\n"
     ]
    }
   ],
   "source": [
    "# Exemple d'utilisation de input():\n",
    "annee_naiss = input(\"Entrer l\\'année de naissance : \")\n",
    "print(\"Cela fait donc\",2020-int(annee_naiss),\" ans\")"
   ]
  },
  {
   "cell_type": "markdown",
   "metadata": {},
   "source": [
    "## Programmer un joueur d'Awélé"
   ]
  },
  {
   "cell_type": "markdown",
   "metadata": {},
   "source": [
    "### Structure de données"
   ]
  },
  {
   "cell_type": "markdown",
   "metadata": {},
   "source": [
    "Pour représenter une position d'Awélé en Python. Une *position* est définie par les éléments suivants :\n",
    "- une *dimension* qui correspond au nombre de colonnes (dans l'Awélé original, il y a 6 colonnes). On note $n$ ce nombre de colonnes dans la suite de ce texte ;\n",
    "- un *plateau* qui correspond au plateau de jeu et donne le nombre de graines dans chaque case ;\n",
    "- le *trait* qui correspond au camp devant jouer dans la position donnée. Il y a\n",
    "  deux camps: \"NORD et \"SUD\" ;\n",
    "- le *butin* qui correspond au nombre de graines déjà ramassées par chacun des joueurs.\n",
    "\n",
    "\n",
    "En Python, une telle position est représentée en tant que dictionnaire qui associe à chaque nom de champ sa valeur.\n",
    "\n",
    "Dans ce qui suit, on distingue :\n",
    "- un coup *correct* qui correspond à un numéro de colonne correct (valeur comprise entre 1 et $n$), et pour lequel la case correspondante contient au moins une graine;\n",
    "- un coup *autorisé* qui est un coup à la fois correct et permettant d'atteindre une position légale du jeu, c'est-à-dire une position qui respecte la règle obligeant à laisser au moins une graine dans le camp de son adversaire."
   ]
  },
  {
   "cell_type": "markdown",
   "metadata": {},
   "source": [
    "** Représentation du plateau de jeu en Python**\n",
    "\n",
    "Pour représenter le plateau en Python, on utilise une liste d'entiers, chaque entier correspondant au nombre de graines dans une case. \n",
    "\n",
    "Soit un plateau de jeu de $n$ colonnes.\n",
    "\n",
    "Pour le camp SUD :\n",
    "- le nombre de graines de la case de la colonne 1 est stocké en position $0$ dans la liste Python ;\n",
    "- le nombre de graines de la case de la colonne  2 est stocké en position $1$ dans la liste Python ;\n",
    "- ...\n",
    "- le nombre de graines de la case de la colonne  $n$ est stocké en position $n-1$ dans la liste Python.\n",
    "\n",
    "Pour le camp NORD :\n",
    "- le nombre de graines de la case de la colonne  1 est stocké en position $2n-1$ dans la liste Python ;\n",
    "- le nombre de graines de la case de la colonne  2 est stocké en position $2n-2$ dans la liste Python ;\n",
    "- ...\n",
    "- le nombre de graines de la case de la colonne  $n$ est stocké en position $n$ dans la liste Python.\n",
    "\n",
    "(il est conseillé de faire un schéma pour bien comprendre).\n",
    "\n",
    "Cette représentation à l'avantage de favoriser le parcours des cases du plateau : en parcourant la liste par positions croissantes, on retrouve le parcours en sens inverse des aiguilles d'une montre. Ce parcours peut alors se faire en Python en incrémentant de 1 la position pour passer à la case suivante, et en réalisant un calcul modulo $2n$."
   ]
  },
  {
   "cell_type": "markdown",
   "metadata": {},
   "source": [
    "### Fonctions fournies"
   ]
  },
  {
   "cell_type": "markdown",
   "metadata": {},
   "source": [
    "Plusieurs fonctions sont fournies dans ce qui suit :\n",
    "- <tt>position_initiale(n)</tt> : qui définit la position initiale du jeu. L'argument est un entier <tt>n</tt> qui donne le nombre de colonnes du plateau du jeu ;\n",
    "- <tt>affichage(position)</tt> : affichage de façon textuelle d'une position ;\n",
    "- <tt>duplique(position)</tt> : recopie d'une position en la dupliquant pour pouvoir y apporter des modifications sans altérer la position originale ;\n",
    "- <tt>joue_un_coup(position,coup)</tt> : renvoie la position obtenue une fois le coup joué dans la position donnée. Cette fonction fait l'hypothèse que le coup donné est un coup correct et elle ne vérifie donc pas que la position résultante est bien une position légale du jeu.\n"
   ]
  },
  {
   "cell_type": "code",
   "execution_count": 2,
   "metadata": {},
   "outputs": [],
   "source": [
    "# - - - - - - - - - - - - - - - TYPES UTILISES\n",
    "# POSITION : dictionnaire non vide qui contient différentes informations sur\n",
    "#            une position, associées au nom de leur champ.\n",
    "# COUP : valeur entière comprise entre 1 et le nombre de colonnes du tablier\n",
    "#\n",
    "#\n",
    "# - - - - - - - - - - - - - - - INITIALISATION\n",
    "def position_initiale(n):\n",
    "    \"\"\" int -> POSITION\n",
    "        Hypothèse : n > 0\n",
    "        définit la position de départ pour n colonnes avec 4 graines dans chaque case.\n",
    "    \"\"\"\n",
    "    position = dict()                                 # initialisation\n",
    "    position['plateau'] = [4 for k in range(0, 2*n)]  # on met 4 graines dans chaque case\n",
    "    position['dimension'] = n                         # le nombre de colonnes du plateau\n",
    "    position['trait'] = 'SUD'                         # le joueur qui doit jouer: 'SUD' ou 'NORD'\n",
    "    position['butin'] = {'SUD':0, 'NORD':0}           # graines prises par chaque joueur\n",
    "    return position\n",
    "\n",
    "# - - - - - - - - - - - - - - - AFFICHAGE (TEXTE)\n",
    "def affichage(position):\n",
    "    \"\"\" POSITION ->\n",
    "        affiche la position de façon textuelle\n",
    "    \"\"\"\n",
    "    print('* * * * * * * * * * * * * * * * * * * *')\n",
    "    n = position['dimension']\n",
    "    buffer = 'col:'\n",
    "    for i in range(0,n):\n",
    "        buffer += ' ' + str(i+1) + ' \\t'\n",
    "    print(buffer)\n",
    "    print('\\t\\tNORD (prises: '+str(position['butin']['NORD'])+')')\n",
    "    print('< - - - - - - - - - - - - - - -')\n",
    "    buffer = ''\n",
    "    for i in range(2*n-1,n-1,-1):   # indices n..(2n-1) pour les cases NORD\n",
    "        buffer += '\\t[' + str(position['plateau'][i]) + ']'\n",
    "    print(buffer)\n",
    "    buffer = ''\n",
    "    for i in range(0,n):            # indices 0..(n-1) pour les cases SUD\n",
    "        buffer += '\\t[' + str(position['plateau'][i]) + ']'\n",
    "    print(buffer)\n",
    "    print('- - - - - - - - - - - - - - - >')\n",
    "    print('\\t\\tSUD (prises: '+str(position['butin']['SUD'])+')')\n",
    "    print('-> camp au trait: '+position['trait']);\n",
    "\n",
    "# - - - - - - - - - - - - - - - RECOPIE\n",
    "import copy\n",
    "def duplique(position):\n",
    "    \"\"\" POSITION -> POSITION\n",
    "        retourne une copie dupliquée de la position\n",
    "        (qui peut être alors modifié sans altérer l'originale donc).\n",
    "    \"\"\"\n",
    "    leclone = dict()\n",
    "    leclone['plateau'] = copy.deepcopy(position['plateau'])\n",
    "    leclone['dimension']  = position['dimension']\n",
    "    leclone['trait']   = position['trait']\n",
    "    leclone['butin'] =  copy.deepcopy(position['butin'])\n",
    "    return leclone\n",
    "\n",
    "# - - - - - - - - - - - - - - - JOUE UN COUP\n",
    "def joue_un_coup(position,coup):\n",
    "    \"\"\" POSITION * COUP -> POSITION\n",
    "        Hypothèse: coup est correct.\n",
    "\n",
    "        Cette fonction retourne la position obtenue une fois le coup joué.\n",
    "    \"\"\"\n",
    "    nouvelle_pos = duplique(position)   # on duplique pour ne pas modifier l'original\n",
    "    n = nouvelle_pos['dimension']\n",
    "    trait = nouvelle_pos['trait']\n",
    "    # on transforme coup en indice\n",
    "    if trait == 'SUD':\n",
    "        indice_depart = coup-1\n",
    "    else:\n",
    "        indice_depart = 2*n-coup\n",
    "    # retrait des graines de la case de départ\n",
    "    nbGraines = nouvelle_pos['plateau'][indice_depart]\n",
    "    nouvelle_pos['plateau'][indice_depart] = 0\n",
    "    # on sème les graines dans les cases à partir de celle de départ\n",
    "    indice_courant = indice_depart\n",
    "    while nbGraines > 0:\n",
    "        indice_courant = (indice_courant + 1) % (2*n)\n",
    "        if (indice_courant != indice_depart):              # si ce n'est pas la case de départ\n",
    "            nouvelle_pos['plateau'][indice_courant] += 1   # on sème une graine\n",
    "            nbGraines -= 1\n",
    "    # la case d'arrivée est dans le camp ennemi ?\n",
    "    if (trait == 'NORD'):\n",
    "        estChezEnnemi = (indice_courant < n)\n",
    "    else:\n",
    "        estChezEnnemi = (indice_courant >= n)\n",
    "    # réalisation des prises éventuelles\n",
    "    while estChezEnnemi and (nouvelle_pos['plateau'][indice_courant] in range(2,4)):\n",
    "        nouvelle_pos['butin'][trait] += nouvelle_pos['plateau'][indice_courant]\n",
    "        nouvelle_pos['plateau'][indice_courant] = 0\n",
    "        indice_courant = (indice_courant - 1) % (2*n)\n",
    "        if (trait == 'NORD'):\n",
    "            estChezEnnemi = (indice_courant < n)\n",
    "        else:\n",
    "            estChezEnnemi = (indice_courant >= n)\n",
    "    # mise à jour du camp au trait\n",
    "    if trait == 'SUD':\n",
    "        nouvelle_pos['trait'] = 'NORD'\n",
    "    else:\n",
    "        nouvelle_pos['trait'] = 'SUD'\n",
    "    return nouvelle_pos\n",
    "# - - - - - - - - - -\n"
   ]
  },
  {
   "cell_type": "markdown",
   "metadata": {},
   "source": [
    "Les instructions qui suivent permettent de voir comment utiliser les fonctions précédentes."
   ]
  },
  {
   "cell_type": "code",
   "execution_count": 3,
   "metadata": {},
   "outputs": [
    {
     "name": "stdout",
     "output_type": "stream",
     "text": [
      "* * * * * * * * * * * * * * * * * * * *\n",
      "col: 1 \t 2 \t 3 \t 4 \t 5 \t 6 \t\n",
      "\t\tNORD (prises: 0)\n",
      "< - - - - - - - - - - - - - - -\n",
      "\t[4]\t[4]\t[4]\t[4]\t[4]\t[4]\n",
      "\t[4]\t[4]\t[4]\t[4]\t[4]\t[4]\n",
      "- - - - - - - - - - - - - - - >\n",
      "\t\tSUD (prises: 0)\n",
      "-> camp au trait: SUD\n",
      "* * * * * * * * * * * * * * * * * * * *\n",
      "col: 1 \t 2 \t 3 \t 4 \t 5 \t 6 \t\n",
      "\t\tNORD (prises: 2)\n",
      "< - - - - - - - - - - - - - - -\n",
      "\t[0]\t[1]\t[7]\t[2]\t[7]\t[7]\n",
      "\t[1]\t[1]\t[1]\t[9]\t[0]\t[7]\n",
      "- - - - - - - - - - - - - - - >\n",
      "\t\tSUD (prises: 3)\n",
      "-> camp au trait: NORD\n",
      "#######################################\n",
      "Partie sur un tablier réduit pour tester:\n",
      "* * * * * * * * * * * * * * * * * * * *\n",
      "col: 1 \t 2 \t 3 \t 4 \t 5 \t 6 \t\n",
      "\t\tNORD (prises: 0)\n",
      "< - - - - - - - - - - - - - - -\n",
      "\t[4]\t[4]\t[4]\t[4]\t[4]\t[4]\n",
      "\t[4]\t[4]\t[4]\t[4]\t[4]\t[4]\n",
      "- - - - - - - - - - - - - - - >\n",
      "\t\tSUD (prises: 0)\n",
      "-> camp au trait: SUD\n",
      "* * * * * * * * * * * * * * * * * * * *\n",
      "col: 1 \t 2 \t 3 \t 4 \t 5 \t 6 \t\n",
      "\t\tNORD (prises: 0)\n",
      "< - - - - - - - - - - - - - - -\n",
      "\t[0]\t[5]\t[0]\t[5]\t[5]\t[5]\n",
      "\t[1]\t[8]\t[1]\t[7]\t[6]\t[5]\n",
      "- - - - - - - - - - - - - - - >\n",
      "\t\tSUD (prises: 0)\n",
      "-> camp au trait: SUD\n",
      "#######################################\n",
      "Essai de prises:\n",
      "* * * * * * * * * * * * * * * * * * * *\n",
      "col: 1 \t 2 \t 3 \t 4 \t 5 \t 6 \t\n",
      "\t\tNORD (prises: 0)\n",
      "< - - - - - - - - - - - - - - -\n",
      "\t[4]\t[4]\t[4]\t[4]\t[4]\t[4]\n",
      "\t[4]\t[4]\t[4]\t[4]\t[4]\t[4]\n",
      "- - - - - - - - - - - - - - - >\n",
      "\t\tSUD (prises: 0)\n",
      "-> camp au trait: SUD\n",
      "* * * * * * * * * * * * * * * * * * * *\n",
      "col: 1 \t 2 \t 3 \t 4 \t 5 \t 6 \t\n",
      "\t\tNORD (prises: 0)\n",
      "< - - - - - - - - - - - - - - -\n",
      "\t[4]\t[4]\t[4]\t[5]\t[5]\t[5]\n",
      "\t[4]\t[4]\t[4]\t[4]\t[0]\t[5]\n",
      "- - - - - - - - - - - - - - - >\n",
      "\t\tSUD (prises: 0)\n",
      "-> camp au trait: NORD\n"
     ]
    }
   ],
   "source": [
    "# ------------------------- POUR VOIR COMMENT CA MARCHE:\n",
    "maPosition = position_initiale(6)\n",
    "affichage(maPosition)\n",
    "maPosition2 = joue_un_coup(maPosition,1) # SUD joue\n",
    "maPosition2 = joue_un_coup(maPosition2,1) # NORD joue\n",
    "maPosition2 = joue_un_coup(maPosition2,2) # SUD joue\n",
    "maPosition2 = joue_un_coup(maPosition2,4) # NORD joue\n",
    "maPosition2 = joue_un_coup(maPosition2,3) # SUD joue\n",
    "maPosition2 = joue_un_coup(maPosition2,2) # NORD joue\n",
    "maPosition2 = joue_un_coup(maPosition2,5) # SUD joue\n",
    "affichage(maPosition2)\n",
    "print(\"#######################################\\nPartie sur un tablier réduit pour tester:\")\n",
    "#maPosition = position_initiale(3)\n",
    "affichage(maPosition)\n",
    "maPosition2 = joue_un_coup(maPosition,1) # SUD joue\n",
    "maPosition2 = joue_un_coup(maPosition2,1) # NORD joue\n",
    "maPosition2 = joue_un_coup(maPosition2,3) # SUD joue\n",
    "maPosition2 = joue_un_coup(maPosition2,3) # NORD joue\n",
    "maPosition2 = joue_un_coup(maPosition2,1) # SUD joue\n",
    "maPosition2 = joue_un_coup(maPosition2,1) # NORD joue\n",
    "affichage(maPosition2)\n",
    "print(\"#######################################\\nEssai de prises:\")\n",
    "maPosition = position_initiale(6)\n",
    "maPosition['tablier'] = [1, 2, 3, 4, 5, 1, 2, 2, 2, 2, 2, 2]\n",
    "affichage(maPosition)\n",
    "maPosition2 = joue_un_coup(maPosition,5) # SUD joue\n",
    "affichage(maPosition2)\n",
    "# ------------------------- FIN TEST\n"
   ]
  },
  {
   "cell_type": "markdown",
   "metadata": {},
   "source": [
    "### Fonctions simples"
   ]
  },
  {
   "cell_type": "markdown",
   "metadata": {},
   "source": [
    "<font color=\"RED\" size=\"+1\">**[Q]**</font> Ecrire les fonctions suivantes :\n",
    "- <tt>est_correct(position,nombre)</tt>: rend le booléen <tt>True</tt> si le nombre donné peut être un coup correct dans la position donnée, c'est-à-dire si ce nombre est un entier compris entre 1\n",
    "  et <tt>n</tt> et si de plus la case correspondante du plateau (pour le camp qui doit donc jouer\n",
    "  dans la position) contient au moins une graine.\n",
    "- <tt>est_legale(position)</tt>: rend le booléen <tt>True</tt> si la position donnée est légale, c'est-à-dire si le camp qui doit jouer possède au moins une dans son camp.\n",
    "- <tt>effectue_si_valide(position,coup)</tt>: rend la nouvelle position obtenue en jouant <tt>coup</tt>\n",
    "  dans la position donnée. Cette fonction retourne le booléen <tt>False</tt> si le coup\n",
    "  n'est pas correct ou si la position résultante n'est pas une position légale du jeu.\n",
    "- <tt>est_terminale(position)</tt>: rend le booléen <tt>True</tt> si la position est\n",
    "  terminale, c'est-à-dire si aucun coup n'est correct, ou si tout coup correct ne permet\n",
    "  pas d'atteindre une position légale ou bien si l'un des deux joueurs a gagné un nombre de graines suffisant. Dans le jeu Awélé original à 6 colonnes, la position est gagnée dès qu'un camp a remporté 25 graines. Ce qui correspond à $6*4+1$ graines. Ce nombre de graines nécessaire pour remporter la victoire dépend donc de la taille du plateau de jeu. Le joueur qui ne peut pas jouer a perdu la partie et donne toutes ses graines à son adversaire.\n"
   ]
  },
  {
   "cell_type": "code",
   "execution_count": 119,
   "metadata": {},
   "outputs": [],
   "source": [
    "def est_correct(position,nombre):\n",
    "    \"\"\"Si le nombre compris entre 1 et n et si cette position contient au moins une graine : renvoie True, sinon False\"\"\"\n",
    "    \n",
    "    #Si le joueur qui joue est au SUD\n",
    "    if (position['trait']== 'SUD'):\n",
    "        return (nombre>0 and nombre<position['dimension']+1) and (position['plateau'][nombre-1]>=1)\n",
    "    #Si le joueur qui joue est au NORD\n",
    "    else : \n",
    "        return (nombre>0 and nombre<position['dimension']+1) and (position['plateau'][2*position['dimension']-nombre]>=1)\n",
    "    "
   ]
  },
  {
   "cell_type": "code",
   "execution_count": 152,
   "metadata": {},
   "outputs": [],
   "source": [
    "def est_legale(position):\n",
    "    graine=0\n",
    "    for i in range (1, position['dimension']+1):\n",
    "        if (position['trait']=='SUD'):\n",
    "            graine += position['plateau'][i-1] #le nombre de graines présentes dans l'ensemble des cases de la position SUD\n",
    "        else :\n",
    "            graine += position['plateau'][2*position['dimension']-i] #le nombre de graine présentes dans l'ensemble des cases du camp NORD\n",
    "    return (graine >0) #si le nombre de graines présentes sur l'un des camps est d'au moins 1 renvoie True\n"
   ]
  },
  {
   "cell_type": "code",
   "execution_count": 184,
   "metadata": {
    "jupyter": {
     "source_hidden": true
    }
   },
   "outputs": [],
   "source": [
    "def est_legale2(position):\n",
    "    graine=0\n",
    "    for i in range (1, position['dimension']+1):\n",
    "        if (position['trait']=='SUD'):\n",
    "            if (position['plateau'][i-1]>0): #le nombre de graines présentes dans l'ensemble des cases de la position SUD\n",
    "                return True \n",
    "        else :\n",
    "            if (position['plateau'][2*position['dimension']-i]>0): #le nombre de graine présentes dans l'ensemble des cases NORD\n",
    "                return True \n",
    "         #si le nombre de graines présentes sur l'un des camps est d'au moins 1 renvoie True\n",
    "    return False"
   ]
  },
  {
   "cell_type": "code",
   "execution_count": 156,
   "metadata": {},
   "outputs": [],
   "source": [
    "def effectue_si_valide(position,coup):\n",
    "    \"\"\"Rend la position obtenue apres avoir joué si le coup est autorisé\n",
    "    Rend False si le coup n'est pas correcte ou si la position n'est pas légale\"\"\"\n",
    "    \n",
    "    position_dup = duplique(position)\n",
    "    #on regarde d'abord si la position est correcte pour le coup donné \n",
    "    if est_correct(position_dup, coup):\n",
    "        pos= joue_un_coup(position_dup, coup)\n",
    "        #on verifie si on n'affame pas\n",
    "        pos_dup= duplique(pos)\n",
    "        if est_legale(pos_dup) == True:\n",
    "            return pos_dup #on renvoie la position obtenue apres avoir joué le coup\n",
    "        return False\n",
    "    else:\n",
    "        return False"
   ]
  },
  {
   "cell_type": "code",
   "execution_count": 157,
   "metadata": {},
   "outputs": [],
   "source": [
    "def est_terminale(position):\n",
    "    \"\"\"Rend True si la position est terminale \n",
    "    - si un des joueurs a atteint 25 graines pour 6 cases : donc n*4+1 pour n cases\n",
    "    - si aucun coup n'est correct ou si tout coup correct ne permet pas d'atteindre une position légale\n",
    "    \"\"\"\n",
    "    \n",
    "    #fin grace aux graines recoltées\n",
    "    \"\"\"for grainebutin in position['butin'].values(): #pour chaque butins : NORD et SUD\n",
    "        if grainebutin >= position['dimension']*4+1: #on regarde si le nombre de graines est suffisant pour gagner\n",
    "            return True\"\"\"\n",
    "    \n",
    "    if (position['butin']['SUD'] >= position['dimension']*4+1 or position['butin']['NORD']>= position['dimension']*4+1):\n",
    "        return True\n",
    "    \n",
    "    #fin si aucun coup n'est autorisé\n",
    "    for coup in range(1,position['dimension']+1):\n",
    "        if effectue_si_valide(position, coup):\n",
    "            return False\n",
    "        return True"
   ]
  },
  {
   "cell_type": "markdown",
   "metadata": {},
   "source": [
    "### Moteur de jeu simple"
   ]
  },
  {
   "cell_type": "markdown",
   "metadata": {},
   "source": [
    "<font color=\"RED\" size=\"+1\">**[Q]**</font> Ecrire la fonction <tt>partie_humains(taille)</tt> permettant à deux joueurs humains de\n",
    "  s'affronter dans une partie d'Awélé sur un plateau qui contient <tt>taille</tt> colonnes (on fait l'hypothèse que c'est un entier strictement positif).  \n",
    "  Dans cette fonction, les joueurs entrent à tour de rôle leur coup à jouer. Après chaque coup, la position est affichée avec les butins de chaque joueur. Le jeu s'arrête lorsque une position terminale est atteinte et le programme affiche alors le nom du camp vainqueur.\n",
    "  Durant la partie, les coups sont donnés en utilisant la fonction <tt>input()</tt> de Python.\n"
   ]
  },
  {
   "cell_type": "code",
   "execution_count": 162,
   "metadata": {},
   "outputs": [],
   "source": [
    "def partie_humains(taille):\n",
    "    \"\"\"2 joueurs humains s'affrontent dans une partie sur un plateau de taille colonnes\n",
    "    \"\"\"\n",
    "    pos = position_initiale(taille)\n",
    "    while (not est_terminale(pos)): #tant qu'on n'atteint pas une position terminale\n",
    "        affichage(pos)\n",
    "        pos2=False\n",
    "        while(not pos2): #tant que le coup n'est pas valide on resaisit le coup\n",
    "            coup = int(input (\"Saisir le coup à jouer : \")) #on demande au joueur de saisir à la main un coup à jouer\n",
    "            pos2 = effectue_si_valide(pos,coup)\n",
    "        pos=pos2 #si la position saisie est correcte on continue le jeu\n",
    "    \n",
    "    affichage(pos)\n",
    "    #affichage du resultat\n",
    "    if pos['butin']['SUD'] >pos['butin']['NORD']:\n",
    "        print(\"vainqueur : SUD avec \"+ str(pos['butin']['SUD'])+ \" graines \\nperdant : NORD avec \"+ str(pos['butin']['NORD'])+ \" graines\")\n",
    "    if pos['butin']['SUD'] <pos['butin']['NORD']:\n",
    "        print(\"vainqueur : NORD avec \"+ str(pos['butin']['NORD'])+ \" graines \\nperdant : SUD avec \"+ str(pos['butin']['SUD'])+ \" graines\")\n",
    "    if pos['butin']['SUD'] ==pos['butin']['NORD']:\n",
    "        print(\"pas de gagant\")\n",
    "        "
   ]
  },
  {
   "cell_type": "code",
   "execution_count": 143,
   "metadata": {
    "jupyter": {
     "source_hidden": true
    }
   },
   "outputs": [],
   "source": [
    "def partie_humains4(taille):\n",
    "    \"\"\"2 joueurs humains s'affrontent dans une partie sur un plateau de taille colonnes\n",
    "    \"\"\"\n",
    "    pos = position_initiale(taille)\n",
    "\n",
    "    while (not est_terminale(pos)): #tant qu'on n'atteint pas une position terminale\n",
    "        affichage(pos)\n",
    "        coup = int(input (\"Saisir le coup à jouer : \")) #on demande au joueur de saisir à la main un coup à jouer\n",
    "        pos2=False\n",
    "        while(not effectue_si_valide(pos,coup)): #tant que le coup n'est pas valide on resaisit le coup\n",
    "            coup = int(input (\"Erreur : resaisir le coup à jouer : \")) #on demande au joueur de saisir à la main un coup à jouer\n",
    "            pos2=effectue_si_valide(pos,coup)\n",
    "        pos=pos2\n",
    "        \n",
    "    #affichage du resultat\n",
    "    if pos['butin']['SUD'] >pos['butin']['NORD']:\n",
    "        print(\"vainqueur : SUD avec \"+ str(pos['butin']['SUD'])+ \" graines \\nperdant : NORD avec \"+ str(pos['butin']['NORD'])+ \" graines\")\n",
    "    if pos['butin']['SUD'] <pos['butin']['NORD']:\n",
    "        print(\"vainqueur : NORD avec \"+ str(pos['butin']['NORD'])+ \" graines \\nperdant : SUD avec \"+ str(pos['butin']['SUD'])+ \" graines\")\n",
    "    if pos['butin']['SUD'] ==pos['butin']['NORD']:\n",
    "        print(\"pas de gagant\")\n",
    "        "
   ]
  },
  {
   "cell_type": "code",
   "execution_count": null,
   "metadata": {
    "jupyter": {
     "source_hidden": true
    }
   },
   "outputs": [],
   "source": [
    "def partie_humains3(taille):\n",
    "    pos = position_initiale(taille)\n",
    "    affichage(pos)\n",
    "    \n",
    "    while (not est_terminale(pos)): #tant qu'on n'atteint pas une position terminale\n",
    "        coup = int(input (\"Saisir le coup à jouer : \"))\n",
    "        while (not effectue_si_valide(coup, pos)):\n",
    "            coup = int(input (\"Erreur : Saisir le coup à jouer : \"))\n",
    "\n",
    "    "
   ]
  },
  {
   "cell_type": "code",
   "execution_count": 163,
   "metadata": {
    "collapsed": true,
    "jupyter": {
     "outputs_hidden": true
    }
   },
   "outputs": [
    {
     "name": "stdout",
     "output_type": "stream",
     "text": [
      "* * * * * * * * * * * * * * * * * * * *\n",
      "col: 1 \t 2 \t 3 \t 4 \t 5 \t 6 \t\n",
      "\t\tNORD (prises: 0)\n",
      "< - - - - - - - - - - - - - - -\n",
      "\t[4]\t[4]\t[4]\t[4]\t[4]\t[4]\n",
      "\t[4]\t[4]\t[4]\t[4]\t[4]\t[4]\n",
      "- - - - - - - - - - - - - - - >\n",
      "\t\tSUD (prises: 0)\n",
      "-> camp au trait: SUD\n"
     ]
    },
    {
     "name": "stdin",
     "output_type": "stream",
     "text": [
      "Saisir le coup à jouer :  6\n"
     ]
    },
    {
     "name": "stdout",
     "output_type": "stream",
     "text": [
      "* * * * * * * * * * * * * * * * * * * *\n",
      "col: 1 \t 2 \t 3 \t 4 \t 5 \t 6 \t\n",
      "\t\tNORD (prises: 0)\n",
      "< - - - - - - - - - - - - - - -\n",
      "\t[4]\t[4]\t[5]\t[5]\t[5]\t[5]\n",
      "\t[4]\t[4]\t[4]\t[4]\t[4]\t[0]\n",
      "- - - - - - - - - - - - - - - >\n",
      "\t\tSUD (prises: 0)\n",
      "-> camp au trait: NORD\n"
     ]
    },
    {
     "name": "stdin",
     "output_type": "stream",
     "text": [
      "Saisir le coup à jouer :  6\n"
     ]
    },
    {
     "name": "stdout",
     "output_type": "stream",
     "text": [
      "* * * * * * * * * * * * * * * * * * * *\n",
      "col: 1 \t 2 \t 3 \t 4 \t 5 \t 6 \t\n",
      "\t\tNORD (prises: 0)\n",
      "< - - - - - - - - - - - - - - -\n",
      "\t[5]\t[5]\t[6]\t[6]\t[6]\t[0]\n",
      "\t[4]\t[4]\t[4]\t[4]\t[4]\t[0]\n",
      "- - - - - - - - - - - - - - - >\n",
      "\t\tSUD (prises: 0)\n",
      "-> camp au trait: SUD\n"
     ]
    },
    {
     "name": "stdin",
     "output_type": "stream",
     "text": [
      "Saisir le coup à jouer :  3\n"
     ]
    },
    {
     "name": "stdout",
     "output_type": "stream",
     "text": [
      "* * * * * * * * * * * * * * * * * * * *\n",
      "col: 1 \t 2 \t 3 \t 4 \t 5 \t 6 \t\n",
      "\t\tNORD (prises: 0)\n",
      "< - - - - - - - - - - - - - - -\n",
      "\t[5]\t[5]\t[6]\t[6]\t[6]\t[1]\n",
      "\t[4]\t[4]\t[0]\t[5]\t[5]\t[1]\n",
      "- - - - - - - - - - - - - - - >\n",
      "\t\tSUD (prises: 0)\n",
      "-> camp au trait: NORD\n"
     ]
    },
    {
     "name": "stdin",
     "output_type": "stream",
     "text": [
      "Saisir le coup à jouer :  3\n"
     ]
    },
    {
     "name": "stdout",
     "output_type": "stream",
     "text": [
      "* * * * * * * * * * * * * * * * * * * *\n",
      "col: 1 \t 2 \t 3 \t 4 \t 5 \t 6 \t\n",
      "\t\tNORD (prises: 0)\n",
      "< - - - - - - - - - - - - - - -\n",
      "\t[6]\t[6]\t[0]\t[6]\t[6]\t[1]\n",
      "\t[5]\t[5]\t[1]\t[6]\t[5]\t[1]\n",
      "- - - - - - - - - - - - - - - >\n",
      "\t\tSUD (prises: 0)\n",
      "-> camp au trait: SUD\n"
     ]
    },
    {
     "name": "stdin",
     "output_type": "stream",
     "text": [
      "Saisir le coup à jouer :  2\n"
     ]
    },
    {
     "name": "stdout",
     "output_type": "stream",
     "text": [
      "* * * * * * * * * * * * * * * * * * * *\n",
      "col: 1 \t 2 \t 3 \t 4 \t 5 \t 6 \t\n",
      "\t\tNORD (prises: 0)\n",
      "< - - - - - - - - - - - - - - -\n",
      "\t[6]\t[6]\t[0]\t[6]\t[6]\t[0]\n",
      "\t[5]\t[0]\t[2]\t[7]\t[6]\t[2]\n",
      "- - - - - - - - - - - - - - - >\n",
      "\t\tSUD (prises: 2)\n",
      "-> camp au trait: NORD\n"
     ]
    },
    {
     "name": "stdin",
     "output_type": "stream",
     "text": [
      "Saisir le coup à jouer :  2\n"
     ]
    },
    {
     "name": "stdout",
     "output_type": "stream",
     "text": [
      "* * * * * * * * * * * * * * * * * * * *\n",
      "col: 1 \t 2 \t 3 \t 4 \t 5 \t 6 \t\n",
      "\t\tNORD (prises: 0)\n",
      "< - - - - - - - - - - - - - - -\n",
      "\t[7]\t[0]\t[0]\t[6]\t[6]\t[0]\n",
      "\t[6]\t[1]\t[3]\t[8]\t[7]\t[2]\n",
      "- - - - - - - - - - - - - - - >\n",
      "\t\tSUD (prises: 2)\n",
      "-> camp au trait: SUD\n"
     ]
    },
    {
     "name": "stdin",
     "output_type": "stream",
     "text": [
      "Saisir le coup à jouer :  5\n"
     ]
    },
    {
     "name": "stdout",
     "output_type": "stream",
     "text": [
      "* * * * * * * * * * * * * * * * * * * *\n",
      "col: 1 \t 2 \t 3 \t 4 \t 5 \t 6 \t\n",
      "\t\tNORD (prises: 0)\n",
      "< - - - - - - - - - - - - - - -\n",
      "\t[8]\t[1]\t[1]\t[7]\t[7]\t[1]\n",
      "\t[6]\t[1]\t[3]\t[8]\t[0]\t[3]\n",
      "- - - - - - - - - - - - - - - >\n",
      "\t\tSUD (prises: 2)\n",
      "-> camp au trait: NORD\n"
     ]
    },
    {
     "name": "stdin",
     "output_type": "stream",
     "text": [
      "Saisir le coup à jouer :  1\n"
     ]
    },
    {
     "name": "stdout",
     "output_type": "stream",
     "text": [
      "* * * * * * * * * * * * * * * * * * * *\n",
      "col: 1 \t 2 \t 3 \t 4 \t 5 \t 6 \t\n",
      "\t\tNORD (prises: 0)\n",
      "< - - - - - - - - - - - - - - -\n",
      "\t[0]\t[1]\t[1]\t[7]\t[8]\t[2]\n",
      "\t[7]\t[2]\t[4]\t[9]\t[1]\t[4]\n",
      "- - - - - - - - - - - - - - - >\n",
      "\t\tSUD (prises: 2)\n",
      "-> camp au trait: SUD\n"
     ]
    },
    {
     "name": "stdin",
     "output_type": "stream",
     "text": [
      "Saisir le coup à jouer :  4\n"
     ]
    },
    {
     "name": "stdout",
     "output_type": "stream",
     "text": [
      "* * * * * * * * * * * * * * * * * * * *\n",
      "col: 1 \t 2 \t 3 \t 4 \t 5 \t 6 \t\n",
      "\t\tNORD (prises: 0)\n",
      "< - - - - - - - - - - - - - - -\n",
      "\t[1]\t[2]\t[2]\t[8]\t[9]\t[3]\n",
      "\t[8]\t[2]\t[4]\t[0]\t[2]\t[5]\n",
      "- - - - - - - - - - - - - - - >\n",
      "\t\tSUD (prises: 2)\n",
      "-> camp au trait: NORD\n"
     ]
    },
    {
     "name": "stdin",
     "output_type": "stream",
     "text": [
      "Saisir le coup à jouer :  1\n"
     ]
    },
    {
     "name": "stdout",
     "output_type": "stream",
     "text": [
      "* * * * * * * * * * * * * * * * * * * *\n",
      "col: 1 \t 2 \t 3 \t 4 \t 5 \t 6 \t\n",
      "\t\tNORD (prises: 0)\n",
      "< - - - - - - - - - - - - - - -\n",
      "\t[0]\t[2]\t[2]\t[8]\t[9]\t[3]\n",
      "\t[9]\t[2]\t[4]\t[0]\t[2]\t[5]\n",
      "- - - - - - - - - - - - - - - >\n",
      "\t\tSUD (prises: 2)\n",
      "-> camp au trait: SUD\n"
     ]
    },
    {
     "name": "stdin",
     "output_type": "stream",
     "text": [
      "Saisir le coup à jouer :  1\n"
     ]
    },
    {
     "name": "stdout",
     "output_type": "stream",
     "text": [
      "* * * * * * * * * * * * * * * * * * * *\n",
      "col: 1 \t 2 \t 3 \t 4 \t 5 \t 6 \t\n",
      "\t\tNORD (prises: 0)\n",
      "< - - - - - - - - - - - - - - -\n",
      "\t[0]\t[2]\t[0]\t[9]\t[10]\t[4]\n",
      "\t[0]\t[3]\t[5]\t[1]\t[3]\t[6]\n",
      "- - - - - - - - - - - - - - - >\n",
      "\t\tSUD (prises: 5)\n",
      "-> camp au trait: NORD\n",
      "vainqueur : SUD avec 5 graines \n",
      "perdant : NORD avec 0 graines\n"
     ]
    }
   ],
   "source": [
    "partie_humains(6)"
   ]
  },
  {
   "cell_type": "markdown",
   "metadata": {},
   "source": [
    "<font color=\"RED\" size=\"+1\">**[Q]**</font> Ecrire la fonction <tt>genere_un_coup(position)</tt> qui retourne un coup autorisé pour la position donnée. Le coup est choisi de façon aléatoire parmi les coups possibles dans la position donnée. Cette fonction rend la valeur 0 si aucun coup n'est possible."
   ]
  },
  {
   "cell_type": "code",
   "execution_count": 165,
   "metadata": {},
   "outputs": [],
   "source": [
    "import random\n",
    "def genere_un_coup(position):\n",
    "    \"\"\"retourne un coup autorisé choisi aléatoirement pour la postion donnée \n",
    "    retourne 0 si aucun coup n'est possible\n",
    "    \"\"\"\n",
    "    coups =[] \n",
    "    for coup in range(1, position['dimension']+1):\n",
    "        if effectue_si_valide(position, coup) == True :\n",
    "            coups.append(coup) #on rajoute tous les coups valide dans la liste\n",
    "    \n",
    "    #ne peut pas choisir pour une séquence vide\n",
    "    if (len(coups)==0):\n",
    "        return 0\n",
    "    else :\n",
    "        return random.choice(coups) # on retourne un coup choisit au hasard dans la liste \n",
    "    "
   ]
  },
  {
   "cell_type": "markdown",
   "metadata": {},
   "source": [
    "<font color=\"RED\" size=\"+1\">**[Q]**</font> Ecrire la fonction <tt>partie_aleatoire(taille,campCPU)</tt> permettant à un joueur humain\n",
    "  de jouer contre l'ordinateur qui choisit aléatoirement ses coups. L'argument\n",
    "  <tt>campCPU</tt> donne le camp que doit gérer l'ordinateur (<tt>'SUD'</tt> ou <tt>'NORD'</tt>) et l'argument <tt>taille</tt> est un entier strictement positif donnant le nombre de colonnes du plateau de jeu."
   ]
  },
  {
   "cell_type": "code",
   "execution_count": 180,
   "metadata": {},
   "outputs": [],
   "source": [
    "def partie_aleatoire(taille, campCPU):\n",
    "    \"\"\"1 joueur humain affronte un ordinateur dans une partie sur un plateau de taille colonnes selon un camp générer par l'ordinateur\n",
    "    \"\"\"\n",
    "\n",
    "    pos = position_initiale(taille)\n",
    "    while (not est_terminale(pos)): #tant qu'on n'atteint pas une position terminale\n",
    "        affichage(pos)\n",
    "        if pos['trait']==campCPU :\n",
    "            coup = genere_un_coup(pos)\n",
    "            #si il n'y a pas de coup choisi \n",
    "            if coup==0 :return 0\n",
    "            pos = effectue_si_valide(pos,coup)\n",
    "        else :\n",
    "            pos2=False\n",
    "            while(not pos2): #tant que le coup n'est pas valide on resaisit le coup\n",
    "                coup = int(input (\"Saisir le coup à jouer : \")) #on demande au joueur de saisir à la main un coup à jouer\n",
    "                pos2 = effectue_si_valide(pos,coup)\n",
    "            pos=pos2 #si la position saisie est correcte on continue le jeu"
   ]
  },
  {
   "cell_type": "code",
   "execution_count": 185,
   "metadata": {},
   "outputs": [
    {
     "name": "stdout",
     "output_type": "stream",
     "text": [
      "* * * * * * * * * * * * * * * * * * * *\n",
      "col: 1 \t 2 \t 3 \t 4 \t\n",
      "\t\tNORD (prises: 0)\n",
      "< - - - - - - - - - - - - - - -\n",
      "\t[4]\t[4]\t[4]\t[4]\n",
      "\t[4]\t[4]\t[4]\t[4]\n",
      "- - - - - - - - - - - - - - - >\n",
      "\t\tSUD (prises: 0)\n",
      "-> camp au trait: SUD\n"
     ]
    },
    {
     "name": "stdin",
     "output_type": "stream",
     "text": [
      "Saisir le coup à jouer :  2\n"
     ]
    },
    {
     "name": "stdout",
     "output_type": "stream",
     "text": [
      "* * * * * * * * * * * * * * * * * * * *\n",
      "col: 1 \t 2 \t 3 \t 4 \t\n",
      "\t\tNORD (prises: 0)\n",
      "< - - - - - - - - - - - - - - -\n",
      "\t[4]\t[4]\t[5]\t[5]\n",
      "\t[4]\t[0]\t[5]\t[5]\n",
      "- - - - - - - - - - - - - - - >\n",
      "\t\tSUD (prises: 0)\n",
      "-> camp au trait: NORD\n"
     ]
    },
    {
     "data": {
      "text/plain": [
       "0"
      ]
     },
     "execution_count": 185,
     "metadata": {},
     "output_type": "execute_result"
    }
   ],
   "source": [
    "partie_aleatoire(4,'NORD')"
   ]
  },
  {
   "cell_type": "markdown",
   "metadata": {},
   "source": [
    "## Joueur artificiel simple"
   ]
  },
  {
   "cell_type": "markdown",
   "metadata": {},
   "source": [
    "On considère la fonction d'évaluation suivante de la position $P$ :\n",
    "$$f(P) = \\left.\n",
    "  \\begin{array}{ll}\n",
    "        +99      & \\mbox{si } P \\mbox{ est gagnée par sud} \\\\\n",
    "        -99      & \\mbox{si } P \\mbox{ est gagnée par nord} \\\\\n",
    "        (2f_g(P,sud) + f_{12}(P,nord)) - (2f_g(P,nord) + f_{12}(P,sud))& \\mbox{sinon }\n",
    "   \\end{array} \\right.$$\n",
    "\n",
    "avec\n",
    "- $f_g(P,c)$ : nombre de graines déjà gagnées par le camp $c$ dans la position $P$\n",
    "- $f_{12}(P,c)$ : nombre de cases du camp $c$ contenant 1 ou 2 graines, dans la position $P$.\n"
   ]
  },
  {
   "cell_type": "markdown",
   "metadata": {},
   "source": [
    "<font color=\"RED\" size=\"+1\">**[Q]**</font> Ecrire la fonction <tt>evalue(position)</tt> qui rend la valeur de l'évaluation de la position obtenue en utilisant la fonction $f$."
   ]
  },
  {
   "cell_type": "code",
   "execution_count": 175,
   "metadata": {},
   "outputs": [],
   "source": [
    "def fg(p,c) :\n",
    "    \"\"\" nombre de graines déjà gagnées par le camp c en position p\"\"\"\n",
    "    return p['butin'][c]\n",
    "\n",
    "def f12(p,c):\n",
    "    \"\"\"nombre de cases du camp c contenant 1 ou 2 graines, dans la position p\"\"\"\n",
    "    case=0\n",
    "    for i in range (1, p['dimension']+1):\n",
    "        if (c=='SUD'): #si on est placé dans le camp sud\n",
    "            if (p['plateau'][i-1]==1 or p['plateau'][i-1]==2): #si une case dans le camp sud possede 1 ou 2 graines\n",
    "                case+=1\n",
    "        else : #si on est placé dans le camp nord\n",
    "            if (p['plateau'][2*p['dimension']-1]==1 or p['plateau'][2*p['dimension']-1]==2): #si une case dans le camp nord possede 1 ou 2 graines\n",
    "                case+=1\n",
    "    return case"
   ]
  },
  {
   "cell_type": "code",
   "execution_count": 176,
   "metadata": {},
   "outputs": [],
   "source": [
    "def evalue(position):\n",
    "    \"\"\" fontion d'évaluation de la position\"\"\"\n",
    "    \n",
    "    #si le butin de SUD est supérieur au butin de NORD\n",
    "    if position['butin']['SUD'] > position['butin']['NORD']: \n",
    "        return 99\n",
    "    #si le butin de NORD est supérieur au butin de NORD\n",
    "    if position['butin']['NORD'] > position['butin']['SUD']:\n",
    "        return -99\n",
    "    else :\n",
    "        return (2*fg(position, 'SUD') + f12(position, 'NORD'))-(2*fg(position, 'NORD') + f12(position, 'SUD'))\n"
   ]
  },
  {
   "cell_type": "markdown",
   "metadata": {},
   "source": [
    "<font color=\"RED\" size=\"+1\">**[Q]**</font> Ecrire la fonction <tt>minimax(position,prof)</tt> qui, pour la position donnée, retourne un tuple Python dont le premier terme correspond au meilleur coup à jouer trouvé par l'application de l'algorithme du minimax à une profondeur <tt>prof</tt>, et le deuxième terme correspond à l'évaluation de la position obtenue pour ce coup."
   ]
  },
  {
   "cell_type": "code",
   "execution_count": 183,
   "metadata": {},
   "outputs": [],
   "source": [
    "def minimax(position, prof):\n",
    "    \"\"\" pour une position donnée et une profondeur donnée\n",
    "    retourn un tuple :\n",
    "    -premier terme : meilleur coup à jouer trouvé par l'algo du minimax\n",
    "    -deuxieme terme : evaluation de la position obtenue pour ce coup\n",
    "    \"\"\"\n",
    "    \n",
    "    if est_terminale(position):\n",
    "        return coup, evalue(position)\n",
    "    if prof==0 :\n",
    "        return coup, evalue(position)\n",
    "    if (prof >0): \n",
    "        for coup in range(1, position['dimension']+1): #pour tous les coups possible\n",
    "            poschild=joue_un_coup(position, coup) #on recupere la position apres le coup\n",
    "            valminmax =minimax(poschild, prof-1) \n",
    "            if position['trait']==\"SUD\": #maximise\n",
    "                maxicoup =0\n",
    "                maxieval = -999\n",
    "                #tant qu'on n'a pas fait tous les coups :\n",
    "                    if(valminmax>maxieval):\n",
    "                        maxieval=max(maxieval,valminmax)\n",
    "                        maxicoup=coup\n",
    "                return maxicoup, maxieval\n",
    "            else : #minimise\n",
    "                minicoup =0\n",
    "                minieval = +999\n",
    "                #tant qu'on n'a pas fait tous les coups :\n",
    "                    if(valminmax<minieval):\n",
    "                        minieval=min(minieval,valminmax)\n",
    "                        minicoup=coup\n",
    "                return minicoup, minieval\n",
    "        "
   ]
  },
  {
   "cell_type": "markdown",
   "metadata": {},
   "source": [
    "<font color=\"RED\" size=\"+1\">**[Q]**</font> Ecrire la fonction <tt>partie_minimax(taille,campCPU,prof)</tt> permettant à un joueur humain de jouer contre l'ordinateur, celui-ci trouvant ses coups à l'aide de l'algorithme minimax, utilisé à une profondeur <tt>prof</tt>. L'argument <tt>campCPU</tt> donne le camp que doit gérer l'ordinateur (<tt>'SUD'</tt> ou <tt>'NORD'</tt>). L'argument <tt>taille</tt> donne la dimension du plateau de jeu en nombre de colonnes.\n"
   ]
  },
  {
   "cell_type": "code",
   "execution_count": 173,
   "metadata": {},
   "outputs": [],
   "source": [
    "def partie_minimax(taille, campCPU, prof):\n",
    "    \"\"\"1 joueur humain affronte un ordinateur dans une partie sur un plateau de taille colonnes selon un camp générer par l'ordinateur\n",
    "    L'ordinateur joue avec l'algorithme minimax pour une profondeur prof\n",
    "    \"\"\"\n",
    "\n",
    "    pos = position_initiale(taille)\n",
    "    while (not est_terminale(pos)): #tant qu'on n'atteint pas une position terminale\n",
    "        affichage(pos)\n",
    "        if pos['trait']==campCPU :\n",
    "            coup,evalue = minimax(pos, prof)\n",
    "            pos = effectue_si_valide(pos,coup)\n",
    "        else :\n",
    "            pos2=False\n",
    "            while(not pos2): #tant que le coup n'est pas valide on resaisit le coup\n",
    "                coup = int(input (\"Saisir le coup à jouer : \")) #on demande au joueur de saisir à la main un coup à jouer\n",
    "                pos2 = effectue_si_valide(pos,coup)\n",
    "            pos=pos2 #si la position saisie est correcte on continue le jeu"
   ]
  },
  {
   "cell_type": "code",
   "execution_count": 177,
   "metadata": {},
   "outputs": [
    {
     "name": "stdout",
     "output_type": "stream",
     "text": [
      "* * * * * * * * * * * * * * * * * * * *\n",
      "col: 1 \t 2 \t 3 \t 4 \t 5 \t 6 \t\n",
      "\t\tNORD (prises: 0)\n",
      "< - - - - - - - - - - - - - - -\n",
      "\t[4]\t[4]\t[4]\t[4]\t[4]\t[4]\n",
      "\t[4]\t[4]\t[4]\t[4]\t[4]\t[4]\n",
      "- - - - - - - - - - - - - - - >\n",
      "\t\tSUD (prises: 0)\n",
      "-> camp au trait: SUD\n",
      "* * * * * * * * * * * * * * * * * * * *\n",
      "col: 1 \t 2 \t 3 \t 4 \t 5 \t 6 \t\n",
      "\t\tNORD (prises: 2)\n",
      "< - - - - - - - - - - - - - - -\n",
      "\t[0]\t[1]\t[7]\t[2]\t[7]\t[7]\n",
      "\t[1]\t[1]\t[1]\t[9]\t[0]\t[7]\n",
      "- - - - - - - - - - - - - - - >\n",
      "\t\tSUD (prises: 3)\n",
      "-> camp au trait: NORD\n",
      "* * * * * * * * * * * * * * * * * * * *\n",
      "col: 1 \t 2 \t 3 \t\n",
      "\t\tNORD (prises: 0)\n",
      "< - - - - - - - - - - - - - - -\n",
      "\t[4]\t[4]\t[4]\n",
      "\t[4]\t[4]\t[4]\n",
      "- - - - - - - - - - - - - - - >\n",
      "\t\tSUD (prises: 0)\n",
      "-> camp au trait: SUD\n",
      "* * * * * * * * * * * * * * * * * * * *\n",
      "col: 1 \t 2 \t 3 \t\n",
      "\t\tNORD (prises: 0)\n",
      "< - - - - - - - - - - - - - - -\n",
      "\t[3]\t[9]\t[1]\n",
      "\t[0]\t[9]\t[2]\n",
      "- - - - - - - - - - - - - - - >\n",
      "\t\tSUD (prises: 0)\n",
      "-> camp au trait: NORD\n",
      "* * * * * * * * * * * * * * * * * * * *\n",
      "col: 1 \t 2 \t 3 \t\n",
      "\t\tNORD (prises: 3)\n",
      "< - - - - - - - - - - - - - - -\n",
      "\t[0]\t[9]\t[1]\n",
      "\t[1]\t[10]\t[0]\n",
      "- - - - - - - - - - - - - - - >\n",
      "\t\tSUD (prises: 0)\n",
      "-> camp au trait: SUD\n",
      "*************************\n",
      "********* Partie minimax: \n",
      "* * * * * * * * * * * * * * * * * * * *\n",
      "col: 1 \t 2 \t 3 \t 4 \t 5 \t 6 \t\n",
      "\t\tNORD (prises: 0)\n",
      "< - - - - - - - - - - - - - - -\n",
      "\t[4]\t[4]\t[4]\t[4]\t[4]\t[4]\n",
      "\t[4]\t[4]\t[4]\t[4]\t[4]\t[4]\n",
      "- - - - - - - - - - - - - - - >\n",
      "\t\tSUD (prises: 0)\n",
      "-> camp au trait: SUD\n",
      "* * * * * * * * * * * * * * * * * * * *\n",
      "col: 1 \t 2 \t 3 \t 4 \t 5 \t 6 \t\n",
      "\t\tNORD (prises: 0)\n",
      "< - - - - - - - - - - - - - - -\n",
      "\t[4]\t[4]\t[4]\t[4]\t[4]\t[4]\n",
      "\t[0]\t[5]\t[5]\t[5]\t[5]\t[4]\n",
      "- - - - - - - - - - - - - - - >\n",
      "\t\tSUD (prises: 0)\n",
      "-> camp au trait: NORD\n"
     ]
    },
    {
     "ename": "KeyboardInterrupt",
     "evalue": "",
     "output_type": "error",
     "traceback": [
      "\u001b[0;31m---------------------------------------------------------------------------\u001b[0m",
      "\u001b[0;31mKeyboardInterrupt\u001b[0m                         Traceback (most recent call last)",
      "\u001b[0;32m~/env/lib/python3.7/site-packages/ipykernel/kernelbase.py\u001b[0m in \u001b[0;36m_input_request\u001b[0;34m(self, prompt, ident, parent, password)\u001b[0m\n\u001b[1;32m    883\u001b[0m             \u001b[0;32mtry\u001b[0m\u001b[0;34m:\u001b[0m\u001b[0;34m\u001b[0m\u001b[0;34m\u001b[0m\u001b[0m\n\u001b[0;32m--> 884\u001b[0;31m                 \u001b[0mident\u001b[0m\u001b[0;34m,\u001b[0m \u001b[0mreply\u001b[0m \u001b[0;34m=\u001b[0m \u001b[0mself\u001b[0m\u001b[0;34m.\u001b[0m\u001b[0msession\u001b[0m\u001b[0;34m.\u001b[0m\u001b[0mrecv\u001b[0m\u001b[0;34m(\u001b[0m\u001b[0mself\u001b[0m\u001b[0;34m.\u001b[0m\u001b[0mstdin_socket\u001b[0m\u001b[0;34m,\u001b[0m \u001b[0;36m0\u001b[0m\u001b[0;34m)\u001b[0m\u001b[0;34m\u001b[0m\u001b[0;34m\u001b[0m\u001b[0m\n\u001b[0m\u001b[1;32m    885\u001b[0m             \u001b[0;32mexcept\u001b[0m \u001b[0mException\u001b[0m\u001b[0;34m:\u001b[0m\u001b[0;34m\u001b[0m\u001b[0;34m\u001b[0m\u001b[0m\n",
      "\u001b[0;32m~/env/lib/python3.7/site-packages/jupyter_client/session.py\u001b[0m in \u001b[0;36mrecv\u001b[0;34m(self, socket, mode, content, copy)\u001b[0m\n\u001b[1;32m    802\u001b[0m         \u001b[0;32mtry\u001b[0m\u001b[0;34m:\u001b[0m\u001b[0;34m\u001b[0m\u001b[0;34m\u001b[0m\u001b[0m\n\u001b[0;32m--> 803\u001b[0;31m             \u001b[0mmsg_list\u001b[0m \u001b[0;34m=\u001b[0m \u001b[0msocket\u001b[0m\u001b[0;34m.\u001b[0m\u001b[0mrecv_multipart\u001b[0m\u001b[0;34m(\u001b[0m\u001b[0mmode\u001b[0m\u001b[0;34m,\u001b[0m \u001b[0mcopy\u001b[0m\u001b[0;34m=\u001b[0m\u001b[0mcopy\u001b[0m\u001b[0;34m)\u001b[0m\u001b[0;34m\u001b[0m\u001b[0;34m\u001b[0m\u001b[0m\n\u001b[0m\u001b[1;32m    804\u001b[0m         \u001b[0;32mexcept\u001b[0m \u001b[0mzmq\u001b[0m\u001b[0;34m.\u001b[0m\u001b[0mZMQError\u001b[0m \u001b[0;32mas\u001b[0m \u001b[0me\u001b[0m\u001b[0;34m:\u001b[0m\u001b[0;34m\u001b[0m\u001b[0;34m\u001b[0m\u001b[0m\n",
      "\u001b[0;32m~/env/lib/python3.7/site-packages/zmq/sugar/socket.py\u001b[0m in \u001b[0;36mrecv_multipart\u001b[0;34m(self, flags, copy, track)\u001b[0m\n\u001b[1;32m    474\u001b[0m         \"\"\"\n\u001b[0;32m--> 475\u001b[0;31m         \u001b[0mparts\u001b[0m \u001b[0;34m=\u001b[0m \u001b[0;34m[\u001b[0m\u001b[0mself\u001b[0m\u001b[0;34m.\u001b[0m\u001b[0mrecv\u001b[0m\u001b[0;34m(\u001b[0m\u001b[0mflags\u001b[0m\u001b[0;34m,\u001b[0m \u001b[0mcopy\u001b[0m\u001b[0;34m=\u001b[0m\u001b[0mcopy\u001b[0m\u001b[0;34m,\u001b[0m \u001b[0mtrack\u001b[0m\u001b[0;34m=\u001b[0m\u001b[0mtrack\u001b[0m\u001b[0;34m)\u001b[0m\u001b[0;34m]\u001b[0m\u001b[0;34m\u001b[0m\u001b[0;34m\u001b[0m\u001b[0m\n\u001b[0m\u001b[1;32m    476\u001b[0m         \u001b[0;31m# have first part already, only loop while more to receive\u001b[0m\u001b[0;34m\u001b[0m\u001b[0;34m\u001b[0m\u001b[0;34m\u001b[0m\u001b[0m\n",
      "\u001b[0;32mzmq/backend/cython/socket.pyx\u001b[0m in \u001b[0;36mzmq.backend.cython.socket.Socket.recv\u001b[0;34m()\u001b[0m\n",
      "\u001b[0;32mzmq/backend/cython/socket.pyx\u001b[0m in \u001b[0;36mzmq.backend.cython.socket.Socket.recv\u001b[0;34m()\u001b[0m\n",
      "\u001b[0;32mzmq/backend/cython/socket.pyx\u001b[0m in \u001b[0;36mzmq.backend.cython.socket._recv_copy\u001b[0;34m()\u001b[0m\n",
      "\u001b[0;32m~/env/lib/python3.7/site-packages/zmq/backend/cython/checkrc.pxd\u001b[0m in \u001b[0;36mzmq.backend.cython.checkrc._check_rc\u001b[0;34m()\u001b[0m\n",
      "\u001b[0;31mKeyboardInterrupt\u001b[0m: ",
      "\nDuring handling of the above exception, another exception occurred:\n",
      "\u001b[0;31mKeyboardInterrupt\u001b[0m                         Traceback (most recent call last)",
      "\u001b[0;32m<ipython-input-177-2bf3e1048576>\u001b[0m in \u001b[0;36m<module>\u001b[0;34m\u001b[0m\n\u001b[1;32m     27\u001b[0m \u001b[0mprint\u001b[0m\u001b[0;34m(\u001b[0m\u001b[0;34m\"*************************\\n********* Partie minimax: \"\u001b[0m\u001b[0;34m)\u001b[0m\u001b[0;34m;\u001b[0m\u001b[0;34m\u001b[0m\u001b[0;34m\u001b[0m\u001b[0m\n\u001b[1;32m     28\u001b[0m \u001b[0;31m# decommenter la ligne suivante:\u001b[0m\u001b[0;34m\u001b[0m\u001b[0;34m\u001b[0m\u001b[0;34m\u001b[0m\u001b[0m\n\u001b[0;32m---> 29\u001b[0;31m \u001b[0mpartie_minimax\u001b[0m\u001b[0;34m(\u001b[0m\u001b[0;36m6\u001b[0m\u001b[0;34m,\u001b[0m\u001b[0;34m\"SUD\"\u001b[0m\u001b[0;34m,\u001b[0m\u001b[0;36m7\u001b[0m\u001b[0;34m)\u001b[0m\u001b[0;34m\u001b[0m\u001b[0;34m\u001b[0m\u001b[0m\n\u001b[0m\u001b[1;32m     30\u001b[0m \u001b[0;34m\u001b[0m\u001b[0m\n\u001b[1;32m     31\u001b[0m \u001b[0;34m\u001b[0m\u001b[0m\n",
      "\u001b[0;32m<ipython-input-173-393682ece36f>\u001b[0m in \u001b[0;36mpartie_minimax\u001b[0;34m(taille, campCPU, prof)\u001b[0m\n\u001b[1;32m     13\u001b[0m             \u001b[0mpos2\u001b[0m\u001b[0;34m=\u001b[0m\u001b[0;32mFalse\u001b[0m\u001b[0;34m\u001b[0m\u001b[0;34m\u001b[0m\u001b[0m\n\u001b[1;32m     14\u001b[0m             \u001b[0;32mwhile\u001b[0m\u001b[0;34m(\u001b[0m\u001b[0;32mnot\u001b[0m \u001b[0mpos2\u001b[0m\u001b[0;34m)\u001b[0m\u001b[0;34m:\u001b[0m \u001b[0;31m#tant que le coup n'est pas valide on resaisit le coup\u001b[0m\u001b[0;34m\u001b[0m\u001b[0;34m\u001b[0m\u001b[0m\n\u001b[0;32m---> 15\u001b[0;31m                 \u001b[0mcoup\u001b[0m \u001b[0;34m=\u001b[0m \u001b[0mint\u001b[0m\u001b[0;34m(\u001b[0m\u001b[0minput\u001b[0m \u001b[0;34m(\u001b[0m\u001b[0;34m\"Saisir le coup à jouer : \"\u001b[0m\u001b[0;34m)\u001b[0m\u001b[0;34m)\u001b[0m \u001b[0;31m#on demande au joueur de saisir à la main un coup à jouer\u001b[0m\u001b[0;34m\u001b[0m\u001b[0;34m\u001b[0m\u001b[0m\n\u001b[0m\u001b[1;32m     16\u001b[0m                 \u001b[0mpos2\u001b[0m \u001b[0;34m=\u001b[0m \u001b[0meffectue_si_valide\u001b[0m\u001b[0;34m(\u001b[0m\u001b[0mpos\u001b[0m\u001b[0;34m,\u001b[0m\u001b[0mcoup\u001b[0m\u001b[0;34m)\u001b[0m\u001b[0;34m\u001b[0m\u001b[0;34m\u001b[0m\u001b[0m\n\u001b[1;32m     17\u001b[0m             \u001b[0mpos\u001b[0m\u001b[0;34m=\u001b[0m\u001b[0mpos2\u001b[0m \u001b[0;31m#si la position saisie est correcte on continue le jeu\u001b[0m\u001b[0;34m\u001b[0m\u001b[0;34m\u001b[0m\u001b[0m\n",
      "\u001b[0;32m~/env/lib/python3.7/site-packages/ipykernel/kernelbase.py\u001b[0m in \u001b[0;36mraw_input\u001b[0;34m(self, prompt)\u001b[0m\n\u001b[1;32m    857\u001b[0m             \u001b[0mself\u001b[0m\u001b[0;34m.\u001b[0m\u001b[0m_parent_ident\u001b[0m\u001b[0;34m,\u001b[0m\u001b[0;34m\u001b[0m\u001b[0;34m\u001b[0m\u001b[0m\n\u001b[1;32m    858\u001b[0m             \u001b[0mself\u001b[0m\u001b[0;34m.\u001b[0m\u001b[0m_parent_header\u001b[0m\u001b[0;34m,\u001b[0m\u001b[0;34m\u001b[0m\u001b[0;34m\u001b[0m\u001b[0m\n\u001b[0;32m--> 859\u001b[0;31m             \u001b[0mpassword\u001b[0m\u001b[0;34m=\u001b[0m\u001b[0;32mFalse\u001b[0m\u001b[0;34m,\u001b[0m\u001b[0;34m\u001b[0m\u001b[0;34m\u001b[0m\u001b[0m\n\u001b[0m\u001b[1;32m    860\u001b[0m         )\n\u001b[1;32m    861\u001b[0m \u001b[0;34m\u001b[0m\u001b[0m\n",
      "\u001b[0;32m~/env/lib/python3.7/site-packages/ipykernel/kernelbase.py\u001b[0m in \u001b[0;36m_input_request\u001b[0;34m(self, prompt, ident, parent, password)\u001b[0m\n\u001b[1;32m    887\u001b[0m             \u001b[0;32mexcept\u001b[0m \u001b[0mKeyboardInterrupt\u001b[0m\u001b[0;34m:\u001b[0m\u001b[0;34m\u001b[0m\u001b[0;34m\u001b[0m\u001b[0m\n\u001b[1;32m    888\u001b[0m                 \u001b[0;31m# re-raise KeyboardInterrupt, to truncate traceback\u001b[0m\u001b[0;34m\u001b[0m\u001b[0;34m\u001b[0m\u001b[0;34m\u001b[0m\u001b[0m\n\u001b[0;32m--> 889\u001b[0;31m                 \u001b[0;32mraise\u001b[0m \u001b[0mKeyboardInterrupt\u001b[0m\u001b[0;34m\u001b[0m\u001b[0;34m\u001b[0m\u001b[0m\n\u001b[0m\u001b[1;32m    890\u001b[0m             \u001b[0;32melse\u001b[0m\u001b[0;34m:\u001b[0m\u001b[0;34m\u001b[0m\u001b[0;34m\u001b[0m\u001b[0m\n\u001b[1;32m    891\u001b[0m                 \u001b[0;32mbreak\u001b[0m\u001b[0;34m\u001b[0m\u001b[0;34m\u001b[0m\u001b[0m\n",
      "\u001b[0;31mKeyboardInterrupt\u001b[0m: "
     ]
    }
   ],
   "source": [
    "# ------------------------- TEST\n",
    "maPosition = position_initiale(6)\n",
    "affichage(maPosition)\n",
    "maPosition2 = joue_un_coup(maPosition,1) # SUD joue\n",
    "maPosition2 = joue_un_coup(maPosition2,1) # NORD joue\n",
    "maPosition2 = joue_un_coup(maPosition2,2) # SUD joue\n",
    "maPosition2 = joue_un_coup(maPosition2,4) # NORD joue\n",
    "maPosition2 = joue_un_coup(maPosition2,3) # SUD joue\n",
    "maPosition2 = joue_un_coup(maPosition2,2) # NORD joue\n",
    "maPosition2 = joue_un_coup(maPosition2,5) # SUD joue\n",
    "affichage(maPosition2)\n",
    "\n",
    "maPosition = position_initiale(3)\n",
    "affichage(maPosition)\n",
    "maPosition2 = joue_un_coup(maPosition,1) # SUD joue\n",
    "maPosition2 = joue_un_coup(maPosition2,1) # NORD joue\n",
    "maPosition2 = joue_un_coup(maPosition2,3) # SUD joue\n",
    "maPosition2 = joue_un_coup(maPosition2,3) # NORD joue\n",
    "maPosition2 = joue_un_coup(maPosition2,1) # SUD joue\n",
    "affichage(maPosition2)\n",
    "maPosition2 = joue_un_coup(maPosition2,1) # NORD joue\n",
    "affichage(maPosition2)\n",
    "\n",
    "# --------\n",
    "#partie_humains(4)\n",
    "#partie_aleatoire(5,\"SUD\")\n",
    "print(\"*************************\\n********* Partie minimax: \");\n",
    "# decommenter la ligne suivante:\n",
    "partie_minimax(6,\"SUD\",7)\n",
    "\n",
    "\n"
   ]
  },
  {
   "cell_type": "markdown",
   "metadata": {},
   "source": [
    "## Joueur artificiel élaboré"
   ]
  },
  {
   "cell_type": "markdown",
   "metadata": {},
   "source": [
    "<font color=\"RED\" size=\"+1\">**[Q]**</font> Ecrire la fonction <code>alphabeta(position,prof,alpha,beta)</code> qui, pour la position donnée, retourne le tuple dont le premier élément correspond au meilleur coup à jouer trouvé par l'application de l'algorithme du alpha-bêta à une profondeur <code>prof</code>, avec les valeurs <code>alpha</code> et <code>beta</code> comme valeurs initiales, et le deuxième élément et l'évaluation de la position obtenue pour\n",
    "  ce coup."
   ]
  },
  {
   "cell_type": "code",
   "execution_count": null,
   "metadata": {},
   "outputs": [],
   "source": []
  },
  {
   "cell_type": "markdown",
   "metadata": {},
   "source": [
    "<font color=\"RED\" size=\"+1\">**[Q]**</font> Ecrire la fonction <code>partie_alphabeta(taille,campCPU,prof)</code> permettant à un joueur  humain de jouer contre l'ordinateur, celui-ci trouvant ses coups à l'aide de\n",
    "  l'algorithme alpha-bêta, utilisé à une profondeur <code>prof</code>. L'argument <code>campCPU</code>\n",
    "  donne le camp que doit gérer l'ordinateur (<code>'SUD'</code> ou <code>'NORD'</code>). L'argument <tt>taille</tt> donne la dimension du plateau de jeu en nombre de colonnes.\n"
   ]
  },
  {
   "cell_type": "code",
   "execution_count": null,
   "metadata": {},
   "outputs": [],
   "source": []
  },
  {
   "cell_type": "markdown",
   "metadata": {},
   "source": [
    "## Pour aller plus loin..."
   ]
  },
  {
   "cell_type": "markdown",
   "metadata": {},
   "source": [
    "Ne pas hésiter à ajouter des fonctionnalités ou des améliorations à votre programme.\n",
    "Par exemple :\n",
    "- une interface graphique pour afficher le tablier, saisir les coups,...\n",
    "- proposer une nouvelle fonction d'évaluation plus efficace que celle donnée dans\n",
    "  l'exercice 2. Tester le programme en le faisant jouer contre lui même un grand nombre de\n",
    "  fois (automatiquement).\n",
    "- ajouter la règle suivante: un coup qui retire toutes les graines du camp de\n",
    "  l'adversaire peut être quand même joué mais dans ce cas, aucune prise n'est effectuée.\n",
    "- toute autre amélioration que vous pouvez envisager.\n",
    "\n"
   ]
  },
  {
   "cell_type": "markdown",
   "metadata": {},
   "source": [
    "## Annexe : présentation du jeu d'Awélé\n",
    "\n",
    "L'Awélé est un jeu d'origine africaine qui se joue sur un plateau (ou tablier) où chacun des 2 joueurs (Sud et Nord) possède 6 cases.  Les règles de ce jeu  sont simples et facilement implémentables.\n",
    "\n",
    "Voir la page wikipédia (http://fr.wikipedia.org/wiki/Awalé) qui détaille les règles que nous utilisons ici, ainsi que le site http://s.helan.free.fr/awale/lejeu/jouer/ qui permet de s'initier en jouant\n",
    "  contre un joueur artificiel.\n",
    "\n",
    "### Règles du jeu\n",
    "Dans la position de départ, toutes les cases sont remplies avec 4 graines.  Le joueur dont\n",
    "c'est le tour de jeu (on considère que le camp Sud débute toujours la partie.) choisit une de ses cases contenant des graines, et en retire toutes les graines qu'elle contient.  Il sème alors ces graines une par une dans les cases suivantes dans le sens inverse des aiguilles d'une montre.  Au cours de cette pose, s'il repasse sur la case qui contenait les graines au départ, il n'y dépose pas de graine.\n",
    "\n",
    "Si la dernière graine est semée dans une case de l'adversaire contenant 2 ou 3 graines après la pose, les graines dans cette case sont capturées par le joueur et elles sont alors retirées du jeu (elles sont mises dans le butin du joueur).  Dans ce cas, si l'avant-dernière case est aussi une case ennemie contenant 2 ou 3 graines, les graines en sont aussi capturées, et ainsi de suite tant que des prises sont possibles (toujours dans le camp ennemi).\n",
    "\n",
    "Il est à noter qu'un coup n'effectue pas forcément une prise, mais si une prise existe à l'issue d'un coup, elle doit obligatoirement être réalisée totalement.\n",
    "\n",
    "A l'issue du coup ainsi exécuté, il doit rester au moins une graine dans l'une des cases de l'adversaire (il ne faut pas ''affamer'' l'adversaire) sinon la position est considérée comme illégale et le coup ne peut pas être joué.\n",
    "\n",
    "Dès qu'un joueur a capturé 25 graines ou plus, il est déclaré vainqueur de la partie et le jeu s'arrête.\n",
    "\n",
    "Dans le cas où un joueur ne peut pas jouer, la partie s'arrête et toutes les graines restant sur le tablier sont capturées par son adversaire.  Dans ce cas, le joueur qui a capturé le plus de graines a gagné.\n",
    "\n",
    "### Représentation du tablier\n",
    "\n",
    "Le tablier est toujours représenté avec les cases de Sud en bas.  \n",
    "Les cases sont ordonnées et repérées par des chiffres, de 1 à 6, de la gauche vers la droite. Dans chaque case, on indique le nombre de graines qu'elle contient. Ainsi, le tablier de départ classique est donné ci-dessous:\n",
    "\n",
    "<p />\n",
    "<table>\n",
    "<tr>\n",
    "<td>\n",
    "**NORD**<br>\n",
    "$\\begin{array}{|c|c|c|c|c|c|} \\hline\n",
    "      4 & 4 & 4 & 4 &\t4 & 4\\\\\n",
    "      \\hline\n",
    "      4 & 4 & 4 & 4 & 4 & 4\\\\\n",
    "      \\hline\n",
    "\\end{array}$<br>\n",
    "**SUD**<br>\n",
    "\n",
    "$\\begin{array}{cccccc} \n",
    "      1 & 2 & 3 & 4 & 5 & 6\\\\\n",
    "\\end{array}$\n",
    "</td>\n",
    "</tr>\n",
    "</table>\n",
    "\n",
    "Un coup est noté en donnant le camp qui joue ainsi que le numéro de la case qui est vidée.  Par exemple, $($SUD$, 2)$ si le camp Sud joue en prenant les graines de la deuxième case en partant de la gauche qui se trouve dans son camp. Ou alors, $($NORD$, 6)$ si le camp Nord joue en prenant les graines de la case numéro 6 qui se trouve dans son camp, c'est à dire la sixième case en partant de la gauche qui se trouve dans son camp, soit celle la plus en haut et à droite du tablier.\n",
    "\n",
    "\n",
    "### Exemple de coup avec prise de graines\n",
    "\n",
    "A partir de la position située à gauche dans la figure ci-dessous, Sud décide de jouer le coup $4$.  La position au centre de la figure montre la situation intermédiaire, suite au dépôt des $6$ graines dans les $6$ cases qui suivent la case $4$ dans l'ordre inverse des aiguilles d'une montre.\n",
    "\n",
    "<p />\n",
    "<table>\n",
    "<tr>\n",
    "<td>Départ</td>\n",
    "<td>SUD a réparti les graines de $4$</td>\n",
    "<td>SUD retire les graines dans le camp NORD</td>\n",
    "</tr>\n",
    "<tr>\n",
    "<td>\n",
    "**NORD**<br>\n",
    "$\\begin{array}{|c|c|c|c|c|c|} \\hline\n",
    " & 2 & 1 & 2 & 1 & 1\\\\\n",
    "\\hline\n",
    "1 & & & {\\bf 6} & & 1\\\\\n",
    "     \\hline\n",
    "\\end{array}$<br>\n",
    "**SUD**<br>\n",
    "$\\begin{array}{cccccc} \n",
    "      1 & 2 & 3 & 4 & 5 & 6\\\\\n",
    "\\end{array}$\n",
    "\n",
    "</td>\n",
    "<td>\n",
    "**NORD**<br>\n",
    "$\\begin{array}{|c|c|c|c|c|c|} \\hline\n",
    "& 2 & {\\bf 2} & {\\bf 3} & {\\bf 2} & {\\bf 2}\\\\\n",
    "\\hline\n",
    "1 & & & & {\\bf 1} & {\\bf 2}\\\\\n",
    "      \\hline\n",
    "\\end{array}$<br>\n",
    "**SUD**<br>\n",
    "\n",
    "$\\begin{array}{cccccc} \n",
    "      1 & 2 & 3 & 4 & 5 & 6\\\\\n",
    "\\end{array}$\n",
    "</td>\n",
    "<td>\n",
    "**NORD**<br>\n",
    "$\\begin{array}{|c|c|c|c|c|c|} \\hline\n",
    "& 2 & & & & \\\\\n",
    "\\hline\n",
    "1 & & & & {\\bf 1} & {\\bf 2}\\\\\n",
    "      \\hline\n",
    "\\end{array}$<br>\n",
    "**SUD**<br>\n",
    "\n",
    "$\\begin{array}{cccccc} \n",
    "      1 & 2 & 3 & 4 & 5 & 6\\\\\n",
    "\\end{array}$\n",
    "</td>\n",
    "</tr>\n",
    "\n",
    "</table>\n",
    "\n",
    "\n",
    "Comme la dernière case où une graine a été posée (la case $3$ du camp Nord) contient maintenant $2$ graines, celles-ci sont prises par Sud, ainsi que celles des cases $4$, $5$ et $6$ qui contiennent (en suivant cet ordre) $2$ ou $3$ graines.  Au total, avec ce coup, Sud prend $9$ graines.  A l'issue des prises réalisées, on obtient finalement la nouvelle position présentée à droite de la figure.  Maintenant, Nord n'a qu'une seule possibilité et doit jouer les graines de la case $2$."
   ]
  },
  {
   "cell_type": "markdown",
   "metadata": {},
   "source": [
    "## Annexe : un peu de langage Python...\n",
    "\n",
    "### Documentation\n",
    "\n",
    "Quelques liens utiles pour se documenter sur le langage Python :\n",
    "-  tutorial: http://python.developpez.com/cours/\n",
    "- documentation officielle: https://docs.python.org/\n",
    "\n",
    "### Quelques fonctions utiles\n",
    "\n",
    "- Saisie d'une valeur au clavier (noter que la fonction <code>input</code> retourne une chaîne de caractères) :\n",
    "    <pre>\n",
    "    saisie = input(\"Entrez un nombre :\")\n",
    "    </pre>\n",
    "- Pour utiliser des fonctions de gestion de l'aléatoire :\n",
    "    <pre>\n",
    "import random\n",
    "    </pre>\n",
    "    - génération d'une valeur aléatoire comprise entre 1 et 10 inclus :\n",
    "    <pre>\n",
    "random.randint(1,10)\n",
    "    </pre>\n",
    "    - tirage aléatoire d'un élément dans une liste :\n",
    "    <pre>\n",
    "random.choice(['a','b','c','d','e','f'])\n",
    "    </pre>"
   ]
  },
  {
   "cell_type": "code",
   "execution_count": null,
   "metadata": {},
   "outputs": [],
   "source": []
  }
 ],
 "metadata": {
  "kernelspec": {
   "display_name": "Python 3",
   "language": "python",
   "name": "python3"
  },
  "language_info": {
   "codemirror_mode": {
    "name": "ipython",
    "version": 3
   },
   "file_extension": ".py",
   "mimetype": "text/x-python",
   "name": "python",
   "nbconvert_exporter": "python",
   "pygments_lexer": "ipython3",
   "version": "3.7.3"
  }
 },
 "nbformat": 4,
 "nbformat_minor": 4
}
