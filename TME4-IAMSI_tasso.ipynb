{
 "cells": [
  {
   "cell_type": "markdown",
   "metadata": {},
   "source": [
    "# TME 4 Programmation SAT - Generateur de championnat"
   ]
  },
  {
   "cell_type": "markdown",
   "metadata": {},
   "source": [
    "## Exercice 2 Modelisation"
   ]
  },
  {
   "cell_type": "markdown",
   "metadata": {},
   "source": [
    "#### Question 1"
   ]
  },
  {
   "cell_type": "markdown",
   "metadata": {},
   "source": [
    "Le nombre de variable utilisées : ne² * nj"
   ]
  },
  {
   "cell_type": "code",
   "execution_count": 4,
   "metadata": {},
   "outputs": [
    {
     "data": {
      "text/plain": [
       "36"
      ]
     },
     "execution_count": 4,
     "metadata": {},
     "output_type": "execute_result"
    }
   ],
   "source": [
    "def nbvar(ne, nj):\n",
    "    return ne**2 * nj\n",
    "nbvar(3,4)"
   ]
  },
  {
   "cell_type": "markdown",
   "metadata": {},
   "source": [
    "#### Question 2"
   ]
  },
  {
   "cell_type": "code",
   "execution_count": 5,
   "metadata": {},
   "outputs": [],
   "source": [
    "def codage (ne,j,x,y):\n",
    "    return j*ne**ne + x*ne+y+1"
   ]
  },
  {
   "cell_type": "markdown",
   "metadata": {},
   "source": [
    "#### Question 3"
   ]
  },
  {
   "cell_type": "code",
   "execution_count": 6,
   "metadata": {},
   "outputs": [],
   "source": [
    "def decodage (k, ne):\n",
    "    y = (k-1)%ne\n",
    "    x=((k-1-y)/ne)%ne\n",
    "    j= (k-1-y-x*ne)/ne**ne\n",
    "    return y,x,j"
   ]
  },
  {
   "cell_type": "markdown",
   "metadata": {},
   "source": [
    "## Exercice 3 Generation d'un planning de matchs"
   ]
  },
  {
   "cell_type": "markdown",
   "metadata": {},
   "source": [
    "#### Question 1"
   ]
  },
  {
   "cell_type": "code",
   "execution_count": 7,
   "metadata": {},
   "outputs": [],
   "source": [
    "def au_moins_un(liste):\n",
    "    res=\"\"\n",
    "    for i in liste:\n",
    "        res+= str(i) + \" \"\n",
    "    res+=\"0\"\n",
    "    return res"
   ]
  },
  {
   "cell_type": "code",
   "execution_count": 8,
   "metadata": {},
   "outputs": [
    {
     "name": "stdout",
     "output_type": "stream",
     "text": [
      "1 2 3 0\n"
     ]
    }
   ],
   "source": [
    "print(au_moins_un([1,2,3]))"
   ]
  },
  {
   "cell_type": "code",
   "execution_count": 9,
   "metadata": {},
   "outputs": [],
   "source": [
    "def au_plus_un(liste):\n",
    "    res=\"\"\n",
    "    for i in range(len(liste)):\n",
    "        for j in range(i+1, len(liste)):\n",
    "            res+=str(-liste[i])+ \" \"+str(-liste[j]) + \" 0 \\n\"\n",
    "    return res"
   ]
  },
  {
   "cell_type": "code",
   "execution_count": 10,
   "metadata": {},
   "outputs": [
    {
     "name": "stdout",
     "output_type": "stream",
     "text": [
      "-1 -2 0 \n",
      "-1 -3 0 \n",
      "-2 -3 0 \n",
      "\n"
     ]
    }
   ],
   "source": [
    "print(au_plus_un([1,2,3]))"
   ]
  },
  {
   "cell_type": "markdown",
   "metadata": {},
   "source": [
    "#### Question 2"
   ]
  },
  {
   "cell_type": "code",
   "execution_count": 11,
   "metadata": {},
   "outputs": [],
   "source": [
    "def nbcontraintes(a):\n",
    "    return len(a.split(\" \\n\"))-1"
   ]
  },
  {
   "cell_type": "markdown",
   "metadata": {},
   "source": [
    "La contrainte \"chaque équipe ne peut jouer plus d'un match par jour\" s'exprime par : \n",
    "$\\forall j \\in\\{0,...,n_{j}-1\\}  \\forall x \\in\\{0,...,n_{e}-1\\}  \\sum_{y=0}^{n_e-1} m_{j,x,y}+m_{j,y,x} \\leq 1$"
   ]
  },
  {
   "cell_type": "code",
   "execution_count": 12,
   "metadata": {},
   "outputs": [],
   "source": [
    "def encoderC1(ne,nj):\n",
    "    c1=\"\"\n",
    "    for j in range(nj): #pour tous les jours\n",
    "        for x in range(ne): # pour chaque equipe\n",
    "            res=[]\n",
    "            for y in range(ne):\n",
    "                if x!=y:\n",
    "                    dom = codage(ne,j,x,y)\n",
    "                    ext = codage(ne,j,y,x)\n",
    "                    res.append(dom)\n",
    "                    res.append(ext)\n",
    "            c1+=au_plus_un(res)\n",
    "    return c1"
   ]
  },
  {
   "cell_type": "code",
   "execution_count": 13,
   "metadata": {
    "scrolled": true
   },
   "outputs": [
    {
     "data": {
      "text/plain": [
       "'-2 -4 0 \\n-2 -3 0 \\n-2 -7 0 \\n-4 -3 0 \\n-4 -7 0 \\n-3 -7 0 \\n-4 -2 0 \\n-4 -6 0 \\n-4 -8 0 \\n-2 -6 0 \\n-2 -8 0 \\n-6 -8 0 \\n-7 -3 0 \\n-7 -8 0 \\n-7 -6 0 \\n-3 -8 0 \\n-3 -6 0 \\n-8 -6 0 \\n-29 -31 0 \\n-29 -30 0 \\n-29 -34 0 \\n-31 -30 0 \\n-31 -34 0 \\n-30 -34 0 \\n-31 -29 0 \\n-31 -33 0 \\n-31 -35 0 \\n-29 -33 0 \\n-29 -35 0 \\n-33 -35 0 \\n-34 -30 0 \\n-34 -35 0 \\n-34 -33 0 \\n-30 -35 0 \\n-30 -33 0 \\n-35 -33 0 \\n-56 -58 0 \\n-56 -57 0 \\n-56 -61 0 \\n-58 -57 0 \\n-58 -61 0 \\n-57 -61 0 \\n-58 -56 0 \\n-58 -60 0 \\n-58 -62 0 \\n-56 -60 0 \\n-56 -62 0 \\n-60 -62 0 \\n-61 -57 0 \\n-61 -62 0 \\n-61 -60 0 \\n-57 -62 0 \\n-57 -60 0 \\n-62 -60 0 \\n-83 -85 0 \\n-83 -84 0 \\n-83 -88 0 \\n-85 -84 0 \\n-85 -88 0 \\n-84 -88 0 \\n-85 -83 0 \\n-85 -87 0 \\n-85 -89 0 \\n-83 -87 0 \\n-83 -89 0 \\n-87 -89 0 \\n-88 -84 0 \\n-88 -89 0 \\n-88 -87 0 \\n-84 -89 0 \\n-84 -87 0 \\n-89 -87 0 \\n'"
      ]
     },
     "execution_count": 13,
     "metadata": {},
     "output_type": "execute_result"
    }
   ],
   "source": [
    "encoderC1(3,4)"
   ]
  },
  {
   "cell_type": "code",
   "execution_count": 14,
   "metadata": {},
   "outputs": [
    {
     "data": {
      "text/plain": [
       "72"
      ]
     },
     "execution_count": 14,
     "metadata": {},
     "output_type": "execute_result"
    }
   ],
   "source": [
    "c134=encoderC1(3,4)\n",
    "nbcontraintes(c134)"
   ]
  },
  {
   "cell_type": "markdown",
   "metadata": {},
   "source": [
    "La contrainte \"sur la durée du chamionnat chaque équipe doit rencontre l'ensemble des autres équipes une fois à domicile et une fois à l'exterieur, soit exactement 2 matchs par équipe adverse\" s'exprime par :\n",
    "\n",
    "$\\forall x \\in\\{0,...,n_{e}-1\\}  \\forall y \\in\\{0,...,n_{e}-1\\}  \\sum_{j=0}^{n_j-1} m_{j,x,y} \\geq 1 \\wedge \\sum_{j=0}^{n_j-1} +m_{j,x,y} \\leq 1$"
   ]
  },
  {
   "cell_type": "code",
   "execution_count": 25,
   "metadata": {},
   "outputs": [],
   "source": [
    "def encoderC2(ne, nj):\n",
    "    c2=\"\"\n",
    "    for x in range(ne): #ext\n",
    "        for y in range(ne): # dom\n",
    "            if x!=y:\n",
    "                res=[]\n",
    "                for j in range(nj):\n",
    "                    m = codage(ne,j,x,y)\n",
    "                    res.append(m)\n",
    "                t=au_plus_un(res)\n",
    "                t+=au_moins_un(res)\n",
    "                c2+=t+\"\\n\"\n",
    "    return c2"
   ]
  },
  {
   "cell_type": "code",
   "execution_count": 26,
   "metadata": {},
   "outputs": [
    {
     "data": {
      "text/plain": [
       "'-2 -29 0 \\n-2 -56 0 \\n-2 -83 0 \\n-29 -56 0 \\n-29 -83 0 \\n-56 -83 0 \\n2 29 56 83 0\\n-3 -30 0 \\n-3 -57 0 \\n-3 -84 0 \\n-30 -57 0 \\n-30 -84 0 \\n-57 -84 0 \\n3 30 57 84 0\\n-4 -31 0 \\n-4 -58 0 \\n-4 -85 0 \\n-31 -58 0 \\n-31 -85 0 \\n-58 -85 0 \\n4 31 58 85 0\\n-6 -33 0 \\n-6 -60 0 \\n-6 -87 0 \\n-33 -60 0 \\n-33 -87 0 \\n-60 -87 0 \\n6 33 60 87 0\\n-7 -34 0 \\n-7 -61 0 \\n-7 -88 0 \\n-34 -61 0 \\n-34 -88 0 \\n-61 -88 0 \\n7 34 61 88 0\\n-8 -35 0 \\n-8 -62 0 \\n-8 -89 0 \\n-35 -62 0 \\n-35 -89 0 \\n-62 -89 0 \\n8 35 62 89 0\\n'"
      ]
     },
     "execution_count": 26,
     "metadata": {},
     "output_type": "execute_result"
    }
   ],
   "source": [
    "encoderC2(3,4)"
   ]
  },
  {
   "cell_type": "code",
   "execution_count": 27,
   "metadata": {},
   "outputs": [
    {
     "data": {
      "text/plain": [
       "36"
      ]
     },
     "execution_count": 27,
     "metadata": {},
     "output_type": "execute_result"
    }
   ],
   "source": [
    "c234=encoderC2(3,4)\n",
    "nbcontraintes(c234)"
   ]
  },
  {
   "cell_type": "code",
   "execution_count": 18,
   "metadata": {},
   "outputs": [],
   "source": [
    "def encoder(ne,nj):\n",
    "    return encoderC1(ne,nj)+encoderC2(ne,nj)"
   ]
  },
  {
   "cell_type": "code",
   "execution_count": 19,
   "metadata": {},
   "outputs": [
    {
     "data": {
      "text/plain": [
       "'-2 -4 0 \\n-2 -3 0 \\n-2 -7 0 \\n-4 -3 0 \\n-4 -7 0 \\n-3 -7 0 \\n-4 -2 0 \\n-4 -6 0 \\n-4 -8 0 \\n-2 -6 0 \\n-2 -8 0 \\n-6 -8 0 \\n-7 -3 0 \\n-7 -8 0 \\n-7 -6 0 \\n-3 -8 0 \\n-3 -6 0 \\n-8 -6 0 \\n-29 -31 0 \\n-29 -30 0 \\n-29 -34 0 \\n-31 -30 0 \\n-31 -34 0 \\n-30 -34 0 \\n-31 -29 0 \\n-31 -33 0 \\n-31 -35 0 \\n-29 -33 0 \\n-29 -35 0 \\n-33 -35 0 \\n-34 -30 0 \\n-34 -35 0 \\n-34 -33 0 \\n-30 -35 0 \\n-30 -33 0 \\n-35 -33 0 \\n-56 -58 0 \\n-56 -57 0 \\n-56 -61 0 \\n-58 -57 0 \\n-58 -61 0 \\n-57 -61 0 \\n-58 -56 0 \\n-58 -60 0 \\n-58 -62 0 \\n-56 -60 0 \\n-56 -62 0 \\n-60 -62 0 \\n-61 -57 0 \\n-61 -62 0 \\n-61 -60 0 \\n-57 -62 0 \\n-57 -60 0 \\n-62 -60 0 \\n-83 -85 0 \\n-83 -84 0 \\n-83 -88 0 \\n-85 -84 0 \\n-85 -88 0 \\n-84 -88 0 \\n-85 -83 0 \\n-85 -87 0 \\n-85 -89 0 \\n-83 -87 0 \\n-83 -89 0 \\n-87 -89 0 \\n-88 -84 0 \\n-88 -89 0 \\n-88 -87 0 \\n-84 -89 0 \\n-84 -87 0 \\n-89 -87 0 \\n-2 -29 0 \\n-2 -56 0 \\n-2 -83 0 \\n-29 -56 0 \\n-29 -83 0 \\n-56 -83 0 \\n2 29 56 83 0\\n-3 -30 0 \\n-3 -57 0 \\n-3 -84 0 \\n-30 -57 0 \\n-30 -84 0 \\n-57 -84 0 \\n3 30 57 84 0\\n-4 -31 0 \\n-4 -58 0 \\n-4 -85 0 \\n-31 -58 0 \\n-31 -85 0 \\n-58 -85 0 \\n4 31 58 85 0\\n-6 -33 0 \\n-6 -60 0 \\n-6 -87 0 \\n-33 -60 0 \\n-33 -87 0 \\n-60 -87 0 \\n6 33 60 87 0\\n-7 -34 0 \\n-7 -61 0 \\n-7 -88 0 \\n-34 -61 0 \\n-34 -88 0 \\n-61 -88 0 \\n7 34 61 88 0\\n-8 -35 0 \\n-8 -62 0 \\n-8 -89 0 \\n-35 -62 0 \\n-35 -89 0 \\n-62 -89 0 \\n8 35 62 89 0'"
      ]
     },
     "execution_count": 19,
     "metadata": {},
     "output_type": "execute_result"
    }
   ],
   "source": [
    "encoder(3,4)"
   ]
  },
  {
   "cell_type": "code",
   "execution_count": 20,
   "metadata": {},
   "outputs": [
    {
     "data": {
      "text/plain": [
       "114"
      ]
     },
     "execution_count": 20,
     "metadata": {},
     "output_type": "execute_result"
    }
   ],
   "source": [
    "a=encoder(3,4)\n",
    "len(a.split(\"\\n\"))"
   ]
  },
  {
   "cell_type": "markdown",
   "metadata": {},
   "source": [
    "#### Question 3"
   ]
  },
  {
   "cell_type": "code",
   "execution_count": 21,
   "metadata": {},
   "outputs": [],
   "source": [
    "def glucose(nom,ne,nj):\n",
    "    c=encoder(ne,nj)\n",
    "    file=open(nom,\"w\")\n",
    "    file.write(\"c \" + str(nom)+\" \\n\")\n",
    "    file.write(\"p cnf \"+ str(nbvar(ne,nj)) +\" \"+ str(len(a.split(\"\\n\")))+\" \\n\" )\n",
    "    file.write(c)\n",
    "    file.close()"
   ]
  },
  {
   "cell_type": "code",
   "execution_count": 24,
   "metadata": {},
   "outputs": [],
   "source": [
    "glucose(\"glucose-syrup/simp/test.cnf\",3,4)"
   ]
  },
  {
   "cell_type": "markdown",
   "metadata": {},
   "source": [
    "UNSATISFIABLE"
   ]
  },
  {
   "cell_type": "markdown",
   "metadata": {},
   "source": [
    "#### Question 4"
   ]
  },
  {
   "cell_type": "code",
   "execution_count": 461,
   "metadata": {},
   "outputs": [],
   "source": [
    "def decoder(nom,ne,nj):\n",
    "    feq=open(nom,\"r\")\n",
    "    equipe=[]\n",
    "    for i in range(ne):\n",
    "        "
   ]
  },
  {
   "cell_type": "code",
   "execution_count": null,
   "metadata": {},
   "outputs": [],
   "source": []
  }
 ],
 "metadata": {
  "kernelspec": {
   "display_name": "Python 3",
   "language": "python",
   "name": "python3"
  },
  "language_info": {
   "codemirror_mode": {
    "name": "ipython",
    "version": 3
   },
   "file_extension": ".py",
   "mimetype": "text/x-python",
   "name": "python",
   "nbconvert_exporter": "python",
   "pygments_lexer": "ipython3",
   "version": "3.7.3"
  }
 },
 "nbformat": 4,
 "nbformat_minor": 2
}
