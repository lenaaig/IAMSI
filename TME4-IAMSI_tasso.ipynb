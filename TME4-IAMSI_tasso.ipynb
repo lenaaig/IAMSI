{
 "cells": [
  {
   "cell_type": "markdown",
   "metadata": {},
   "source": [
    "# TME 4 Programmation SAT - Generateur de championnat"
   ]
  },
  {
   "cell_type": "markdown",
   "metadata": {},
   "source": [
    "## Exercice 2 Modelisation"
   ]
  },
  {
   "cell_type": "markdown",
   "metadata": {},
   "source": [
    "#### Question 1"
   ]
  },
  {
   "cell_type": "markdown",
   "metadata": {},
   "source": [
    "Le nombre de variable utilisées : ne² * nj"
   ]
  },
  {
   "cell_type": "code",
   "execution_count": 18,
   "metadata": {},
   "outputs": [
    {
     "data": {
      "text/plain": [
       "64"
      ]
     },
     "execution_count": 18,
     "metadata": {},
     "output_type": "execute_result"
    }
   ],
   "source": [
    "def nbvar(ne, nj):\n",
    "    return ne**2 * nj\n",
    "nbvar(4,4)"
   ]
  },
  {
   "cell_type": "markdown",
   "metadata": {},
   "source": [
    "#### Question 2"
   ]
  },
  {
   "cell_type": "code",
   "execution_count": 14,
   "metadata": {},
   "outputs": [],
   "source": [
    "def codage (ne,j,x,y):\n",
    "    return j*ne**ne + x*ne+y+1"
   ]
  },
  {
   "cell_type": "markdown",
   "metadata": {},
   "source": [
    "#### Question 3"
   ]
  },
  {
   "cell_type": "code",
   "execution_count": 15,
   "metadata": {},
   "outputs": [],
   "source": [
    "\n",
    "def decodage (k, ne):\n",
    "    y = (k-1)%ne\n",
    "    x=((k-1-y)/ne)%ne\n",
    "    j= (k-1-y-x*ne)/ne**ne\n",
    "    return y,x,j"
   ]
  },
  {
   "cell_type": "markdown",
   "metadata": {},
   "source": [
    "## Exercice 3 Generation d'un planning de matchs"
   ]
  },
  {
   "cell_type": "markdown",
   "metadata": {},
   "source": [
    "#### Question 1"
   ]
  },
  {
   "cell_type": "code",
   "execution_count": 31,
   "metadata": {},
   "outputs": [],
   "source": [
    "def au_moins_un(liste):\n",
    "    res=\"\"\n",
    "    for i in liste:\n",
    "        res+= str(i) + \" \"\n",
    "    res+=\"0\"\n",
    "    return res"
   ]
  },
  {
   "cell_type": "code",
   "execution_count": 6,
   "metadata": {},
   "outputs": [],
   "source": [
    "def au_plus_un(liste):\n",
    "    res=\"\"\n",
    "    for i in range(len(liste)):\n",
    "        for j in range(i+1, len(liste)):\n",
    "            res+=str(-liste[i])+ \" \"+str(-liste[j]) + \" 0\\n\"\n",
    "    return res"
   ]
  },
  {
   "cell_type": "code",
   "execution_count": 13,
   "metadata": {},
   "outputs": [
    {
     "name": "stdout",
     "output_type": "stream",
     "text": [
      "-1 -2 0\n",
      "-1 -3 0\n",
      "-2 -3 0\n",
      "\n"
     ]
    }
   ],
   "source": [
    "print(au_plus_un([1,2,3]))"
   ]
  },
  {
   "cell_type": "markdown",
   "metadata": {},
   "source": [
    "#### Question 2"
   ]
  },
  {
   "cell_type": "markdown",
   "metadata": {},
   "source": [
    "La contrainte \"chaque équipe ne peut jouer plus d'un match par jour\" s'exprime par : $\\forall j \\in\\{0,...,n_{j}-1\\}  \\forall x \\in\\{0,...,n_{e}-1\\}  \\sum_{y=0}^{ne-1} m_{j,x,y}+m_{j,y,x} \\leq 1$"
   ]
  },
  {
   "cell_type": "code",
   "execution_count": 19,
   "metadata": {},
   "outputs": [],
   "source": [
    "def encoderC1(ne,nj):\n",
    "    c1=[]\n",
    "    for j in range(nj): #pour tous les jours\n",
    "        for x in range(ne): # pour chaque equipe\n",
    "            res=[]\n",
    "            for y in range(ne):\n",
    "                if x!=y:\n",
    "                    dom = codage(ne,j,x,y)\n",
    "                    ext = codage(ne,j,y,x)\n",
    "                    res.append(dom)\n",
    "                    res.append(ext)\n",
    "            c1.append(au_plus_un(res))\n",
    "    return c1"
   ]
  },
  {
   "cell_type": "code",
   "execution_count": 23,
   "metadata": {},
   "outputs": [
    {
     "data": {
      "text/plain": [
       "12"
      ]
     },
     "execution_count": 23,
     "metadata": {},
     "output_type": "execute_result"
    }
   ],
   "source": [
    "len(encoderC1(3,4))"
   ]
  },
  {
   "cell_type": "code",
   "execution_count": 24,
   "metadata": {},
   "outputs": [
    {
     "data": {
      "text/plain": [
       "['-2 -4 0\\n-2 -3 0\\n-2 -7 0\\n-4 -3 0\\n-4 -7 0\\n-3 -7 0\\n',\n",
       " '-4 -2 0\\n-4 -6 0\\n-4 -8 0\\n-2 -6 0\\n-2 -8 0\\n-6 -8 0\\n',\n",
       " '-7 -3 0\\n-7 -8 0\\n-7 -6 0\\n-3 -8 0\\n-3 -6 0\\n-8 -6 0\\n',\n",
       " '-29 -31 0\\n-29 -30 0\\n-29 -34 0\\n-31 -30 0\\n-31 -34 0\\n-30 -34 0\\n',\n",
       " '-31 -29 0\\n-31 -33 0\\n-31 -35 0\\n-29 -33 0\\n-29 -35 0\\n-33 -35 0\\n',\n",
       " '-34 -30 0\\n-34 -35 0\\n-34 -33 0\\n-30 -35 0\\n-30 -33 0\\n-35 -33 0\\n',\n",
       " '-56 -58 0\\n-56 -57 0\\n-56 -61 0\\n-58 -57 0\\n-58 -61 0\\n-57 -61 0\\n',\n",
       " '-58 -56 0\\n-58 -60 0\\n-58 -62 0\\n-56 -60 0\\n-56 -62 0\\n-60 -62 0\\n',\n",
       " '-61 -57 0\\n-61 -62 0\\n-61 -60 0\\n-57 -62 0\\n-57 -60 0\\n-62 -60 0\\n',\n",
       " '-83 -85 0\\n-83 -84 0\\n-83 -88 0\\n-85 -84 0\\n-85 -88 0\\n-84 -88 0\\n',\n",
       " '-85 -83 0\\n-85 -87 0\\n-85 -89 0\\n-83 -87 0\\n-83 -89 0\\n-87 -89 0\\n',\n",
       " '-88 -84 0\\n-88 -89 0\\n-88 -87 0\\n-84 -89 0\\n-84 -87 0\\n-89 -87 0\\n']"
      ]
     },
     "execution_count": 24,
     "metadata": {},
     "output_type": "execute_result"
    }
   ],
   "source": [
    "encoderC1(3,4)"
   ]
  },
  {
   "cell_type": "markdown",
   "metadata": {},
   "source": [
    "La contrainte \"sur la durée du chamionnat chaque équipe doit rencontre l'ensemble des autres équipes une fois à domicile et une fois à l'exterieur, soit exactement 2 matchs par équipe adverse\" s'exprime par :"
   ]
  },
  {
   "cell_type": "code",
   "execution_count": 35,
   "metadata": {},
   "outputs": [],
   "source": [
    "def encoderC2(ne, nj):\n",
    "    c2=[]\n",
    "    for j in range(nj): #pour tous les jours\n",
    "        for x in range(ne): # pour chaque equipe\n",
    "            res=[]\n",
    "            for y in range(ne):\n",
    "                if x!=y:\n",
    "                    dom = codage(ne,j,x,y)\n",
    "                    res.append(dom)\n",
    "            t=au_plus_un(res)\n",
    "            t+=au_moins_un(res)\n",
    "            c2.append(t)\n",
    "    return c2"
   ]
  },
  {
   "cell_type": "code",
   "execution_count": 36,
   "metadata": {},
   "outputs": [
    {
     "data": {
      "text/plain": [
       "12"
      ]
     },
     "execution_count": 36,
     "metadata": {},
     "output_type": "execute_result"
    }
   ],
   "source": [
    "len(encoderC2(3,4))"
   ]
  },
  {
   "cell_type": "code",
   "execution_count": null,
   "metadata": {},
   "outputs": [],
   "source": []
  }
 ],
 "metadata": {
  "kernelspec": {
   "display_name": "Python 3",
   "language": "python",
   "name": "python3"
  },
  "language_info": {
   "codemirror_mode": {
    "name": "ipython",
    "version": 3
   },
   "file_extension": ".py",
   "mimetype": "text/x-python",
   "name": "python",
   "nbconvert_exporter": "python",
   "pygments_lexer": "ipython3",
   "version": "3.7.3"
  }
 },
 "nbformat": 4,
 "nbformat_minor": 2
}
