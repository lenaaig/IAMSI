{
 "cells": [
  {
   "cell_type": "markdown",
   "metadata": {},
   "source": [
    "# TME 4 Programmation SAT - Generateur de championnat"
   ]
  },
  {
   "cell_type": "markdown",
   "metadata": {},
   "source": [
    "## Exercice 2 Modelisation"
   ]
  },
  {
   "cell_type": "markdown",
   "metadata": {},
   "source": [
    "#### Question 1"
   ]
  },
  {
   "cell_type": "markdown",
   "metadata": {},
   "source": [
    "Le nombre de variable utilisées : ne² * nj"
   ]
  },
  {
   "cell_type": "code",
   "execution_count": 95,
   "metadata": {},
   "outputs": [
    {
     "data": {
      "text/plain": [
       "36"
      ]
     },
     "execution_count": 95,
     "metadata": {},
     "output_type": "execute_result"
    }
   ],
   "source": [
    "def nbvar(ne, nj):\n",
    "    #return ne*ne * nj\n",
    "    return (nj-1) * ne**2 + (ne-1)*ne + (ne-1)+1\n",
    "nbvar(3,4)"
   ]
  },
  {
   "cell_type": "markdown",
   "metadata": {},
   "source": [
    "#### Question 2"
   ]
  },
  {
   "cell_type": "code",
   "execution_count": 52,
   "metadata": {},
   "outputs": [],
   "source": [
    "def codage (ne,j,x,y):\n",
    "    return j*ne**2 + x*ne+y+1"
   ]
  },
  {
   "cell_type": "markdown",
   "metadata": {},
   "source": [
    "#### Question 3"
   ]
  },
  {
   "cell_type": "code",
   "execution_count": 3,
   "metadata": {},
   "outputs": [],
   "source": [
    "def decodage (k, ne):\n",
    "    y = (k-1)%ne\n",
    "    x=((k-1-y)/ne)%ne\n",
    "    j= (k-1-y-x*ne)/ne**ne\n",
    "    return y,x,j"
   ]
  },
  {
   "cell_type": "markdown",
   "metadata": {},
   "source": [
    "## Exercice 3 Generation d'un planning de matchs"
   ]
  },
  {
   "cell_type": "markdown",
   "metadata": {},
   "source": [
    "#### Question 1"
   ]
  },
  {
   "cell_type": "code",
   "execution_count": 4,
   "metadata": {},
   "outputs": [],
   "source": [
    "def au_moins_un(liste):\n",
    "    res=\"\"\n",
    "    for i in liste:\n",
    "        res+= str(i) + \" \"\n",
    "    res+=\"0\"\n",
    "    return res"
   ]
  },
  {
   "cell_type": "code",
   "execution_count": 5,
   "metadata": {},
   "outputs": [
    {
     "name": "stdout",
     "output_type": "stream",
     "text": [
      "1 2 3 0\n"
     ]
    }
   ],
   "source": [
    "print(au_moins_un([1,2,3]))"
   ]
  },
  {
   "cell_type": "code",
   "execution_count": 16,
   "metadata": {},
   "outputs": [],
   "source": [
    "def au_plus_un(liste):\n",
    "    res=\n",
    "    for i in range(len(liste)):\n",
    "        for j in range(i+1, len(liste)):\n",
    "            res+=str(-liste[i])+ \" \"+str(-liste[j]) + \" 0 \\n\"\n",
    "    return res"
   ]
  },
  {
   "cell_type": "code",
   "execution_count": 17,
   "metadata": {},
   "outputs": [
    {
     "name": "stdout",
     "output_type": "stream",
     "text": [
      "-1 -2 0 \n",
      "-1 -3 0 \n",
      "-2 -3 0 \n",
      "\n"
     ]
    }
   ],
   "source": [
    "print(au_plus_un([1,2,3]))"
   ]
  },
  {
   "cell_type": "markdown",
   "metadata": {},
   "source": [
    "#### Question 2"
   ]
  },
  {
   "cell_type": "code",
   "execution_count": 68,
   "metadata": {},
   "outputs": [],
   "source": [
    "def nbcontraintes(a):\n",
    "    return len(a.split(\"\\n\"))"
   ]
  },
  {
   "cell_type": "markdown",
   "metadata": {},
   "source": [
    "La contrainte \"chaque équipe ne peut jouer plus d'un match par jour\" s'exprime par : \n",
    "$\\forall j \\in\\{0,...,n_{j}-1\\}  \\forall x \\in\\{0,...,n_{e}-1\\}  \\sum_{y=0}^{n_e-1} m_{j,x,y}+m_{j,y,x} \\leq 1$"
   ]
  },
  {
   "cell_type": "code",
   "execution_count": 69,
   "metadata": {},
   "outputs": [],
   "source": [
    "def encoderC1(ne,nj):\n",
    "    c1=\"\"\n",
    "    for j in range(nj): #pour tous les jours\n",
    "        for x in range(ne): # pour chaque equipe\n",
    "            res=[]\n",
    "            for y in range(ne):\n",
    "                if x!=y:\n",
    "                    dom = codage(ne,j,x,y)\n",
    "                    ext = codage(ne,j,y,x)\n",
    "                    res.append(dom)\n",
    "                    res.append(ext)\n",
    "            c1+=au_plus_un(res)\n",
    "    return c1[:-2]"
   ]
  },
  {
   "cell_type": "code",
   "execution_count": 70,
   "metadata": {
    "scrolled": true
   },
   "outputs": [
    {
     "name": "stdout",
     "output_type": "stream",
     "text": [
      "-2 -4 0 \n",
      "-2 -3 0 \n",
      "-2 -7 0 \n",
      "-4 -3 0 \n",
      "-4 -7 0 \n",
      "-3 -7 0 \n",
      "-4 -2 0 \n",
      "-4 -6 0 \n",
      "-4 -8 0 \n",
      "-2 -6 0 \n",
      "-2 -8 0 \n",
      "-6 -8 0 \n",
      "-7 -3 0 \n",
      "-7 -8 0 \n",
      "-7 -6 0 \n",
      "-3 -8 0 \n",
      "-3 -6 0 \n",
      "-8 -6 0 \n",
      "-11 -13 0 \n",
      "-11 -12 0 \n",
      "-11 -16 0 \n",
      "-13 -12 0 \n",
      "-13 -16 0 \n",
      "-12 -16 0 \n",
      "-13 -11 0 \n",
      "-13 -15 0 \n",
      "-13 -17 0 \n",
      "-11 -15 0 \n",
      "-11 -17 0 \n",
      "-15 -17 0 \n",
      "-16 -12 0 \n",
      "-16 -17 0 \n",
      "-16 -15 0 \n",
      "-12 -17 0 \n",
      "-12 -15 0 \n",
      "-17 -15 0 \n",
      "-20 -22 0 \n",
      "-20 -21 0 \n",
      "-20 -25 0 \n",
      "-22 -21 0 \n",
      "-22 -25 0 \n",
      "-21 -25 0 \n",
      "-22 -20 0 \n",
      "-22 -24 0 \n",
      "-22 -26 0 \n",
      "-20 -24 0 \n",
      "-20 -26 0 \n",
      "-24 -26 0 \n",
      "-25 -21 0 \n",
      "-25 -26 0 \n",
      "-25 -24 0 \n",
      "-21 -26 0 \n",
      "-21 -24 0 \n",
      "-26 -24 0 \n",
      "-29 -31 0 \n",
      "-29 -30 0 \n",
      "-29 -34 0 \n",
      "-31 -30 0 \n",
      "-31 -34 0 \n",
      "-30 -34 0 \n",
      "-31 -29 0 \n",
      "-31 -33 0 \n",
      "-31 -35 0 \n",
      "-29 -33 0 \n",
      "-29 -35 0 \n",
      "-33 -35 0 \n",
      "-34 -30 0 \n",
      "-34 -35 0 \n",
      "-34 -33 0 \n",
      "-30 -35 0 \n",
      "-30 -33 0 \n",
      "-35 -33 0\n"
     ]
    }
   ],
   "source": [
    "print(encoderC1(3,4))"
   ]
  },
  {
   "cell_type": "code",
   "execution_count": 71,
   "metadata": {},
   "outputs": [
    {
     "data": {
      "text/plain": [
       "72"
      ]
     },
     "execution_count": 71,
     "metadata": {},
     "output_type": "execute_result"
    }
   ],
   "source": [
    "c134=encoderC1(3,4)\n",
    "nbcontraintes(c134)"
   ]
  },
  {
   "cell_type": "markdown",
   "metadata": {},
   "source": [
    "La contrainte \"sur la durée du chamionnat chaque équipe doit rencontre l'ensemble des autres équipes une fois à domicile et une fois à l'exterieur, soit exactement 2 matchs par équipe adverse\" s'exprime par :\n",
    "\n",
    "$\\forall x \\in\\{0,...,n_{e}-1\\}  \\forall y \\in\\{0,...,n_{e}-1\\}  \\sum_{j=0}^{n_j-1} m_{j,x,y} \\geq 1 \\wedge \\sum_{j=0}^{n_j-1} m_{j,x,y} \\leq 1$"
   ]
  },
  {
   "cell_type": "code",
   "execution_count": 75,
   "metadata": {},
   "outputs": [],
   "source": [
    "def encoderC2(ne, nj):\n",
    "    c2=\"\"\n",
    "    for x in range(ne): #ext\n",
    "        for y in range(ne): # dom\n",
    "            if x!=y:\n",
    "                res=[]\n",
    "                for j in range(nj):\n",
    "                    m = codage(ne,j,x,y)\n",
    "                    res.append(m)\n",
    "                t=au_plus_un(res)\n",
    "                t+=au_moins_un(res)\n",
    "                c2+=t+\"\\n\"\n",
    "    return c2[:-2]"
   ]
  },
  {
   "cell_type": "code",
   "execution_count": 78,
   "metadata": {},
   "outputs": [
    {
     "name": "stdout",
     "output_type": "stream",
     "text": [
      "-2 -11 0 \n",
      "-2 -20 0 \n",
      "-2 -29 0 \n",
      "-11 -20 0 \n",
      "-11 -29 0 \n",
      "-20 -29 0 \n",
      "2 11 20 29 0\n",
      "-3 -12 0 \n",
      "-3 -21 0 \n",
      "-3 -30 0 \n",
      "-12 -21 0 \n",
      "-12 -30 0 \n",
      "-21 -30 0 \n",
      "3 12 21 30 0\n",
      "-4 -13 0 \n",
      "-4 -22 0 \n",
      "-4 -31 0 \n",
      "-13 -22 0 \n",
      "-13 -31 0 \n",
      "-22 -31 0 \n",
      "4 13 22 31 0\n",
      "-6 -15 0 \n",
      "-6 -24 0 \n",
      "-6 -33 0 \n",
      "-15 -24 0 \n",
      "-15 -33 0 \n",
      "-24 -33 0 \n",
      "6 15 24 33 0\n",
      "-7 -16 0 \n",
      "-7 -25 0 \n",
      "-7 -34 0 \n",
      "-16 -25 0 \n",
      "-16 -34 0 \n",
      "-25 -34 0 \n",
      "7 16 25 34 0\n",
      "-8 -17 0 \n",
      "-8 -26 0 \n",
      "-8 -35 0 \n",
      "-17 -26 0 \n",
      "-17 -35 0 \n",
      "-26 -35 0 \n",
      "8 17 26 35 \n"
     ]
    }
   ],
   "source": [
    "print(encoderC2(3,4))"
   ]
  },
  {
   "cell_type": "code",
   "execution_count": 79,
   "metadata": {},
   "outputs": [
    {
     "data": {
      "text/plain": [
       "42"
      ]
     },
     "execution_count": 79,
     "metadata": {},
     "output_type": "execute_result"
    }
   ],
   "source": [
    "c234=encoderC2(3,4)\n",
    "nbcontraintes(c234)"
   ]
  },
  {
   "cell_type": "code",
   "execution_count": 83,
   "metadata": {},
   "outputs": [],
   "source": [
    "def encoder(ne,nj):\n",
    "    return encoderC1(ne,nj)+\"\\n\"+encoderC2(ne,nj)"
   ]
  },
  {
   "cell_type": "code",
   "execution_count": 86,
   "metadata": {},
   "outputs": [
    {
     "name": "stdout",
     "output_type": "stream",
     "text": [
      "-2 -4 0 \n",
      "-2 -3 0 \n",
      "-2 -7 0 \n",
      "-4 -3 0 \n",
      "-4 -7 0 \n",
      "-3 -7 0 \n",
      "-4 -2 0 \n",
      "-4 -6 0 \n",
      "-4 -8 0 \n",
      "-2 -6 0 \n",
      "-2 -8 0 \n",
      "-6 -8 0 \n",
      "-7 -3 0 \n",
      "-7 -8 0 \n",
      "-7 -6 0 \n",
      "-3 -8 0 \n",
      "-3 -6 0 \n",
      "-8 -6 0 \n",
      "-11 -13 0 \n",
      "-11 -12 0 \n",
      "-11 -16 0 \n",
      "-13 -12 0 \n",
      "-13 -16 0 \n",
      "-12 -16 0 \n",
      "-13 -11 0 \n",
      "-13 -15 0 \n",
      "-13 -17 0 \n",
      "-11 -15 0 \n",
      "-11 -17 0 \n",
      "-15 -17 0 \n",
      "-16 -12 0 \n",
      "-16 -17 0 \n",
      "-16 -15 0 \n",
      "-12 -17 0 \n",
      "-12 -15 0 \n",
      "-17 -15 0 \n",
      "-20 -22 0 \n",
      "-20 -21 0 \n",
      "-20 -25 0 \n",
      "-22 -21 0 \n",
      "-22 -25 0 \n",
      "-21 -25 0 \n",
      "-22 -20 0 \n",
      "-22 -24 0 \n",
      "-22 -26 0 \n",
      "-20 -24 0 \n",
      "-20 -26 0 \n",
      "-24 -26 0 \n",
      "-25 -21 0 \n",
      "-25 -26 0 \n",
      "-25 -24 0 \n",
      "-21 -26 0 \n",
      "-21 -24 0 \n",
      "-26 -24 0 \n",
      "-29 -31 0 \n",
      "-29 -30 0 \n",
      "-29 -34 0 \n",
      "-31 -30 0 \n",
      "-31 -34 0 \n",
      "-30 -34 0 \n",
      "-31 -29 0 \n",
      "-31 -33 0 \n",
      "-31 -35 0 \n",
      "-29 -33 0 \n",
      "-29 -35 0 \n",
      "-33 -35 0 \n",
      "-34 -30 0 \n",
      "-34 -35 0 \n",
      "-34 -33 0 \n",
      "-30 -35 0 \n",
      "-30 -33 0 \n",
      "-35 -33 0\n",
      "-2 -11 0 \n",
      "-2 -20 0 \n",
      "-2 -29 0 \n",
      "-11 -20 0 \n",
      "-11 -29 0 \n",
      "-20 -29 0 \n",
      "2 11 20 29 0\n",
      "-3 -12 0 \n",
      "-3 -21 0 \n",
      "-3 -30 0 \n",
      "-12 -21 0 \n",
      "-12 -30 0 \n",
      "-21 -30 0 \n",
      "3 12 21 30 0\n",
      "-4 -13 0 \n",
      "-4 -22 0 \n",
      "-4 -31 0 \n",
      "-13 -22 0 \n",
      "-13 -31 0 \n",
      "-22 -31 0 \n",
      "4 13 22 31 0\n",
      "-6 -15 0 \n",
      "-6 -24 0 \n",
      "-6 -33 0 \n",
      "-15 -24 0 \n",
      "-15 -33 0 \n",
      "-24 -33 0 \n",
      "6 15 24 33 0\n",
      "-7 -16 0 \n",
      "-7 -25 0 \n",
      "-7 -34 0 \n",
      "-16 -25 0 \n",
      "-16 -34 0 \n",
      "-25 -34 0 \n",
      "7 16 25 34 0\n",
      "-8 -17 0 \n",
      "-8 -26 0 \n",
      "-8 -35 0 \n",
      "-17 -26 0 \n",
      "-17 -35 0 \n",
      "-26 -35 0 \n",
      "8 17 26 35 \n"
     ]
    }
   ],
   "source": [
    "print(encoder(3,4))"
   ]
  },
  {
   "cell_type": "code",
   "execution_count": 85,
   "metadata": {},
   "outputs": [
    {
     "data": {
      "text/plain": [
       "114"
      ]
     },
     "execution_count": 85,
     "metadata": {},
     "output_type": "execute_result"
    }
   ],
   "source": [
    "a=encoder(3,4)\n",
    "len(a.split(\"\\n\"))"
   ]
  },
  {
   "cell_type": "markdown",
   "metadata": {},
   "source": [
    "#### Question 3"
   ]
  },
  {
   "cell_type": "code",
   "execution_count": 109,
   "metadata": {},
   "outputs": [],
   "source": [
    "import os\n",
    "\n",
    "def glucose(nom,ne,nj):\n",
    "    c=encoder(ne,nj)\n",
    "    file=open(nom,\"w\")\n",
    "    file.write(\"c \" + str(nom)+\" \\n\")\n",
    "    file.write(\"p cnf \"+ str(nbvar(ne,nj)) +\" \"+ str(len(a.split(\"\\n\")))+\" \\n\" )\n",
    "    file.write(c)\n",
    "    file.close()\n",
    "    \n",
    "    os.system(\"./glucose-syrup/simp/glucose_static -model test.cnf retour.txt\")\n",
    "    \n",
    "    file=open(retour.txt,\"r\")\n",
    "    return file"
   ]
  },
  {
   "cell_type": "code",
   "execution_count": 89,
   "metadata": {},
   "outputs": [],
   "source": [
    "glucose(\"glucose-syrup/simp/test.cnf\",3,4)"
   ]
  },
  {
   "cell_type": "code",
   "execution_count": 108,
   "metadata": {},
   "outputs": [
    {
     "data": {
      "text/plain": [
       "32256"
      ]
     },
     "execution_count": 108,
     "metadata": {},
     "output_type": "execute_result"
    }
   ],
   "source": [
    "import os\n",
    "os.system(\"./glucose-syrup/simp/glucose_static -model test.cnf result_\")"
   ]
  },
  {
   "cell_type": "markdown",
   "metadata": {},
   "source": [
    "UNSATISFIABLE"
   ]
  },
  {
   "cell_type": "markdown",
   "metadata": {},
   "source": [
    "#### Question 4"
   ]
  },
  {
   "cell_type": "code",
   "execution_count": 461,
   "metadata": {},
   "outputs": [],
   "source": [
    "def decoder(nom,ne,nj):\n",
    "    feq=open(nom,\"r\")\n",
    "    equipe=[]\n",
    "    eq = open(\"equipe.txt\", r)\n",
    "    for i in range(ne):\n",
    "        "
   ]
  },
  {
   "cell_type": "code",
   "execution_count": null,
   "metadata": {},
   "outputs": [],
   "source": []
  }
 ],
 "metadata": {
  "kernelspec": {
   "display_name": "Python 3",
   "language": "python",
   "name": "python3"
  },
  "language_info": {
   "codemirror_mode": {
    "name": "ipython",
    "version": 3
   },
   "file_extension": ".py",
   "mimetype": "text/x-python",
   "name": "python",
   "nbconvert_exporter": "python",
   "pygments_lexer": "ipython3",
   "version": "3.7.3"
  }
 },
 "nbformat": 4,
 "nbformat_minor": 4
}
