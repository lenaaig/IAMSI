{
 "cells": [
  {
   "cell_type": "markdown",
   "metadata": {},
   "source": [
    "# TME 4 Programmation SAT - Generateur de championnat"
   ]
  },
  {
   "cell_type": "markdown",
   "metadata": {},
   "source": [
    "## Exercice 2 Modelisation"
   ]
  },
  {
   "cell_type": "markdown",
   "metadata": {},
   "source": [
    "#### Question 1"
   ]
  },
  {
   "cell_type": "markdown",
   "metadata": {},
   "source": [
    "Le nombre de variable utilisées : ne² * nj"
   ]
  },
  {
   "cell_type": "code",
   "execution_count": 2,
   "metadata": {},
   "outputs": [
    {
     "data": {
      "text/plain": [
       "36"
      ]
     },
     "execution_count": 2,
     "metadata": {},
     "output_type": "execute_result"
    }
   ],
   "source": [
    "def nbvar(ne, nj):\n",
    "    #return (nj-1) * ne**2 + (ne-1)*ne + (ne-1)+1\n",
    "    return ne*ne * nj\n",
    "nbvar(3,4)"
   ]
  },
  {
   "cell_type": "markdown",
   "metadata": {},
   "source": [
    "#### Question 2"
   ]
  },
  {
   "cell_type": "code",
   "execution_count": 3,
   "metadata": {},
   "outputs": [],
   "source": [
    "def codage (ne,j,x,y):\n",
    "    return j*ne**2 + x*ne+y+1"
   ]
  },
  {
   "cell_type": "markdown",
   "metadata": {},
   "source": [
    "#### Question 3"
   ]
  },
  {
   "cell_type": "code",
   "execution_count": 285,
   "metadata": {},
   "outputs": [],
   "source": [
    "def decodage (ne,nj,k):\n",
    "    y = (k-1)%ne\n",
    "    x=((k-1-y)/ne)%ne\n",
    "    #x=((k-1-y)%(ne*ne))/ne\n",
    "    j= (k-1-x-y*ne)/ne*ne\n",
    "    return j,x,y"
   ]
  },
  {
   "cell_type": "markdown",
   "metadata": {},
   "source": [
    "## Exercice 3 Generation d'un planning de matchs"
   ]
  },
  {
   "cell_type": "markdown",
   "metadata": {},
   "source": [
    "#### Question 1"
   ]
  },
  {
   "cell_type": "code",
   "execution_count": 5,
   "metadata": {},
   "outputs": [],
   "source": [
    "def au_moins_un(liste):\n",
    "    res=\"\"\n",
    "    for i in liste:\n",
    "        res+= str(i) + \" \"\n",
    "    res+=\"0\"\n",
    "    return res"
   ]
  },
  {
   "cell_type": "code",
   "execution_count": 6,
   "metadata": {},
   "outputs": [
    {
     "name": "stdout",
     "output_type": "stream",
     "text": [
      "1 2 3 0\n"
     ]
    }
   ],
   "source": [
    "print(au_moins_un([1,2,3]))"
   ]
  },
  {
   "cell_type": "code",
   "execution_count": 7,
   "metadata": {},
   "outputs": [],
   "source": [
    "def au_plus_un(liste):\n",
    "    res=\"\"\n",
    "    for i in range(len(liste)):\n",
    "        for j in range(i+1, len(liste)):\n",
    "            res+=str(-liste[i])+ \" \"+str(-liste[j]) + \" 0 \\n\"\n",
    "    return res"
   ]
  },
  {
   "cell_type": "code",
   "execution_count": 8,
   "metadata": {},
   "outputs": [
    {
     "name": "stdout",
     "output_type": "stream",
     "text": [
      "-1 -2 0 \n",
      "-1 -3 0 \n",
      "-2 -3 0 \n",
      "\n"
     ]
    }
   ],
   "source": [
    "print(au_plus_un([1,2,3]))"
   ]
  },
  {
   "cell_type": "markdown",
   "metadata": {},
   "source": [
    "#### Question 2"
   ]
  },
  {
   "cell_type": "code",
   "execution_count": 9,
   "metadata": {},
   "outputs": [],
   "source": [
    "def nbcontraintes(a):\n",
    "    return len(a.split(\"\\n\"))"
   ]
  },
  {
   "cell_type": "markdown",
   "metadata": {},
   "source": [
    "La contrainte \"chaque équipe ne peut jouer plus d'un match par jour\" s'exprime par : \n",
    "$\\forall j \\in\\{0,...,n_{j}-1\\}  \\forall x \\in\\{0,...,n_{e}-1\\}  \\sum_{y=0}^{n_e-1} m_{j,x,y}+m_{j,y,x} \\leq 1$"
   ]
  },
  {
   "cell_type": "code",
   "execution_count": 10,
   "metadata": {},
   "outputs": [],
   "source": [
    "def encoderC1(ne,nj):\n",
    "    c1=\"\"\n",
    "    for j in range(nj): #pour tous les jours\n",
    "        for x in range(ne): # pour chaque equipe\n",
    "            res=[]\n",
    "            for y in range(ne):\n",
    "                if x!=y:\n",
    "                    dom = codage(ne,j,x,y)\n",
    "                    ext = codage(ne,j,y,x)\n",
    "                    res.append(dom)\n",
    "                    res.append(ext)\n",
    "            c1+=au_plus_un(res)\n",
    "    return c1[:-2]"
   ]
  },
  {
   "cell_type": "code",
   "execution_count": 11,
   "metadata": {
    "scrolled": true
   },
   "outputs": [
    {
     "name": "stdout",
     "output_type": "stream",
     "text": [
      "-2 -4 0 \n",
      "-2 -3 0 \n",
      "-2 -7 0 \n",
      "-4 -3 0 \n",
      "-4 -7 0 \n",
      "-3 -7 0 \n",
      "-4 -2 0 \n",
      "-4 -6 0 \n",
      "-4 -8 0 \n",
      "-2 -6 0 \n",
      "-2 -8 0 \n",
      "-6 -8 0 \n",
      "-7 -3 0 \n",
      "-7 -8 0 \n",
      "-7 -6 0 \n",
      "-3 -8 0 \n",
      "-3 -6 0 \n",
      "-8 -6 0 \n",
      "-11 -13 0 \n",
      "-11 -12 0 \n",
      "-11 -16 0 \n",
      "-13 -12 0 \n",
      "-13 -16 0 \n",
      "-12 -16 0 \n",
      "-13 -11 0 \n",
      "-13 -15 0 \n",
      "-13 -17 0 \n",
      "-11 -15 0 \n",
      "-11 -17 0 \n",
      "-15 -17 0 \n",
      "-16 -12 0 \n",
      "-16 -17 0 \n",
      "-16 -15 0 \n",
      "-12 -17 0 \n",
      "-12 -15 0 \n",
      "-17 -15 0 \n",
      "-20 -22 0 \n",
      "-20 -21 0 \n",
      "-20 -25 0 \n",
      "-22 -21 0 \n",
      "-22 -25 0 \n",
      "-21 -25 0 \n",
      "-22 -20 0 \n",
      "-22 -24 0 \n",
      "-22 -26 0 \n",
      "-20 -24 0 \n",
      "-20 -26 0 \n",
      "-24 -26 0 \n",
      "-25 -21 0 \n",
      "-25 -26 0 \n",
      "-25 -24 0 \n",
      "-21 -26 0 \n",
      "-21 -24 0 \n",
      "-26 -24 0 \n",
      "-29 -31 0 \n",
      "-29 -30 0 \n",
      "-29 -34 0 \n",
      "-31 -30 0 \n",
      "-31 -34 0 \n",
      "-30 -34 0 \n",
      "-31 -29 0 \n",
      "-31 -33 0 \n",
      "-31 -35 0 \n",
      "-29 -33 0 \n",
      "-29 -35 0 \n",
      "-33 -35 0 \n",
      "-34 -30 0 \n",
      "-34 -35 0 \n",
      "-34 -33 0 \n",
      "-30 -35 0 \n",
      "-30 -33 0 \n",
      "-35 -33 0\n"
     ]
    }
   ],
   "source": [
    "print(encoderC1(3,4))"
   ]
  },
  {
   "cell_type": "code",
   "execution_count": 12,
   "metadata": {},
   "outputs": [
    {
     "data": {
      "text/plain": [
       "72"
      ]
     },
     "execution_count": 12,
     "metadata": {},
     "output_type": "execute_result"
    }
   ],
   "source": [
    "c134=encoderC1(3,4)\n",
    "nbcontraintes(c134)"
   ]
  },
  {
   "cell_type": "markdown",
   "metadata": {},
   "source": [
    "La contrainte \"sur la durée du chamionnat chaque équipe doit rencontre l'ensemble des autres équipes une fois à domicile et une fois à l'exterieur, soit exactement 2 matchs par équipe adverse\" s'exprime par :\n",
    "\n",
    "$\\forall x \\in\\{0,...,n_{e}-1\\}  \\forall y \\in\\{0,...,n_{e}-1\\}  \\sum_{j=0}^{n_j-1} m_{j,x,y} \\geq 1 \\wedge \\sum_{j=0}^{n_j-1} m_{j,x,y} \\leq 1$"
   ]
  },
  {
   "cell_type": "code",
   "execution_count": 13,
   "metadata": {},
   "outputs": [],
   "source": [
    "def encoderC2(ne, nj):\n",
    "    c2=\"\"\n",
    "    for x in range(ne): #ext\n",
    "        for y in range(ne): # dom\n",
    "            if x!=y:\n",
    "                res=[]\n",
    "                for j in range(nj):\n",
    "                    m = codage(ne,j,x,y)\n",
    "                    res.append(m)\n",
    "                t=au_plus_un(res)\n",
    "                t+=au_moins_un(res)\n",
    "                c2+=t+\"\\n\"\n",
    "    return c2[:-1]"
   ]
  },
  {
   "cell_type": "code",
   "execution_count": 14,
   "metadata": {},
   "outputs": [
    {
     "name": "stdout",
     "output_type": "stream",
     "text": [
      "-2 -11 0 \n",
      "-2 -20 0 \n",
      "-2 -29 0 \n",
      "-11 -20 0 \n",
      "-11 -29 0 \n",
      "-20 -29 0 \n",
      "2 11 20 29 0\n",
      "-3 -12 0 \n",
      "-3 -21 0 \n",
      "-3 -30 0 \n",
      "-12 -21 0 \n",
      "-12 -30 0 \n",
      "-21 -30 0 \n",
      "3 12 21 30 0\n",
      "-4 -13 0 \n",
      "-4 -22 0 \n",
      "-4 -31 0 \n",
      "-13 -22 0 \n",
      "-13 -31 0 \n",
      "-22 -31 0 \n",
      "4 13 22 31 0\n",
      "-6 -15 0 \n",
      "-6 -24 0 \n",
      "-6 -33 0 \n",
      "-15 -24 0 \n",
      "-15 -33 0 \n",
      "-24 -33 0 \n",
      "6 15 24 33 0\n",
      "-7 -16 0 \n",
      "-7 -25 0 \n",
      "-7 -34 0 \n",
      "-16 -25 0 \n",
      "-16 -34 0 \n",
      "-25 -34 0 \n",
      "7 16 25 34 0\n",
      "-8 -17 0 \n",
      "-8 -26 0 \n",
      "-8 -35 0 \n",
      "-17 -26 0 \n",
      "-17 -35 0 \n",
      "-26 -35 0 \n",
      "8 17 26 35 0\n"
     ]
    }
   ],
   "source": [
    "print(encoderC2(3,4))"
   ]
  },
  {
   "cell_type": "code",
   "execution_count": 15,
   "metadata": {},
   "outputs": [
    {
     "data": {
      "text/plain": [
       "42"
      ]
     },
     "execution_count": 15,
     "metadata": {},
     "output_type": "execute_result"
    }
   ],
   "source": [
    "c234=encoderC2(3,4)\n",
    "nbcontraintes(c234)"
   ]
  },
  {
   "cell_type": "code",
   "execution_count": 16,
   "metadata": {},
   "outputs": [],
   "source": [
    "def encoder(ne,nj):\n",
    "    return encoderC1(ne,nj)+\"\\n\"+encoderC2(ne,nj)"
   ]
  },
  {
   "cell_type": "code",
   "execution_count": 17,
   "metadata": {},
   "outputs": [
    {
     "name": "stdout",
     "output_type": "stream",
     "text": [
      "-2 -4 0 \n",
      "-2 -3 0 \n",
      "-2 -7 0 \n",
      "-4 -3 0 \n",
      "-4 -7 0 \n",
      "-3 -7 0 \n",
      "-4 -2 0 \n",
      "-4 -6 0 \n",
      "-4 -8 0 \n",
      "-2 -6 0 \n",
      "-2 -8 0 \n",
      "-6 -8 0 \n",
      "-7 -3 0 \n",
      "-7 -8 0 \n",
      "-7 -6 0 \n",
      "-3 -8 0 \n",
      "-3 -6 0 \n",
      "-8 -6 0 \n",
      "-11 -13 0 \n",
      "-11 -12 0 \n",
      "-11 -16 0 \n",
      "-13 -12 0 \n",
      "-13 -16 0 \n",
      "-12 -16 0 \n",
      "-13 -11 0 \n",
      "-13 -15 0 \n",
      "-13 -17 0 \n",
      "-11 -15 0 \n",
      "-11 -17 0 \n",
      "-15 -17 0 \n",
      "-16 -12 0 \n",
      "-16 -17 0 \n",
      "-16 -15 0 \n",
      "-12 -17 0 \n",
      "-12 -15 0 \n",
      "-17 -15 0 \n",
      "-20 -22 0 \n",
      "-20 -21 0 \n",
      "-20 -25 0 \n",
      "-22 -21 0 \n",
      "-22 -25 0 \n",
      "-21 -25 0 \n",
      "-22 -20 0 \n",
      "-22 -24 0 \n",
      "-22 -26 0 \n",
      "-20 -24 0 \n",
      "-20 -26 0 \n",
      "-24 -26 0 \n",
      "-25 -21 0 \n",
      "-25 -26 0 \n",
      "-25 -24 0 \n",
      "-21 -26 0 \n",
      "-21 -24 0 \n",
      "-26 -24 0 \n",
      "-29 -31 0 \n",
      "-29 -30 0 \n",
      "-29 -34 0 \n",
      "-31 -30 0 \n",
      "-31 -34 0 \n",
      "-30 -34 0 \n",
      "-31 -29 0 \n",
      "-31 -33 0 \n",
      "-31 -35 0 \n",
      "-29 -33 0 \n",
      "-29 -35 0 \n",
      "-33 -35 0 \n",
      "-34 -30 0 \n",
      "-34 -35 0 \n",
      "-34 -33 0 \n",
      "-30 -35 0 \n",
      "-30 -33 0 \n",
      "-35 -33 0\n",
      "-2 -11 0 \n",
      "-2 -20 0 \n",
      "-2 -29 0 \n",
      "-11 -20 0 \n",
      "-11 -29 0 \n",
      "-20 -29 0 \n",
      "2 11 20 29 0\n",
      "-3 -12 0 \n",
      "-3 -21 0 \n",
      "-3 -30 0 \n",
      "-12 -21 0 \n",
      "-12 -30 0 \n",
      "-21 -30 0 \n",
      "3 12 21 30 0\n",
      "-4 -13 0 \n",
      "-4 -22 0 \n",
      "-4 -31 0 \n",
      "-13 -22 0 \n",
      "-13 -31 0 \n",
      "-22 -31 0 \n",
      "4 13 22 31 0\n",
      "-6 -15 0 \n",
      "-6 -24 0 \n",
      "-6 -33 0 \n",
      "-15 -24 0 \n",
      "-15 -33 0 \n",
      "-24 -33 0 \n",
      "6 15 24 33 0\n",
      "-7 -16 0 \n",
      "-7 -25 0 \n",
      "-7 -34 0 \n",
      "-16 -25 0 \n",
      "-16 -34 0 \n",
      "-25 -34 0 \n",
      "7 16 25 34 0\n",
      "-8 -17 0 \n",
      "-8 -26 0 \n",
      "-8 -35 0 \n",
      "-17 -26 0 \n",
      "-17 -35 0 \n",
      "-26 -35 0 \n",
      "8 17 26 35 0\n"
     ]
    }
   ],
   "source": [
    "print(encoder(3,4))"
   ]
  },
  {
   "cell_type": "code",
   "execution_count": 18,
   "metadata": {},
   "outputs": [
    {
     "data": {
      "text/plain": [
       "114"
      ]
     },
     "execution_count": 18,
     "metadata": {},
     "output_type": "execute_result"
    }
   ],
   "source": [
    "a=encoder(3,4)\n",
    "len(a.split(\"\\n\"))"
   ]
  },
  {
   "cell_type": "markdown",
   "metadata": {},
   "source": [
    "#### Question 3"
   ]
  },
  {
   "cell_type": "code",
   "execution_count": 286,
   "metadata": {},
   "outputs": [],
   "source": [
    "import os\n",
    "\n",
    "def glucose(ne,nj,filein, fileout):\n",
    "    c=encoder(ne,nj)\n",
    "    with open (filein, \"w\") as fi:\n",
    "        fi.write(\"c \" + str(filein)+\" \\n\")\n",
    "        fi.write(\"p cnf \"+ str(nbvar(ne,nj)) +\" \"+ str(len(a.split(\"\\n\")))+\" \\n\" )\n",
    "        fi.write(c)\n",
    "\n",
    "    glu = \"./glucose-syrup/simp/glucose_static -model \" + filein +\" \"+ fileout\n",
    "    os.system(glu)\n",
    "    \n",
    "    with open(fileout,\"r\") as ret:\n",
    "        res = ret.read()\n",
    "    return res"
   ]
  },
  {
   "cell_type": "code",
   "execution_count": 287,
   "metadata": {},
   "outputs": [
    {
     "data": {
      "text/plain": [
       "'-1 -2 -3 4 -5 -6 -7 -8 -9 -10 11 -12 -13 -14 -15 -16 -17 -18 -19 -20 21 -22 -23 -24 -25 -26 -27 -28 -29 -30 -31 -32 33 -34 -35 -36 -37 -38 -39 -40 -41 -42 43 -44 -45 -46 -47 -48 -49 -50 -51 -52 53 0\\n'"
      ]
     },
     "execution_count": 287,
     "metadata": {},
     "output_type": "execute_result"
    }
   ],
   "source": [
    "glucose(3,6, \"testsat.cnf\", \"retoursat3_6.txt\")"
   ]
  },
  {
   "cell_type": "code",
   "execution_count": 288,
   "metadata": {},
   "outputs": [
    {
     "data": {
      "text/plain": [
       "'-1 -2 -3 4 -5 -6 -7 -8 -9 -10 11 -12 -13 -14 -15 -16 -17 -18 -19 -20 -21 -22 -23 -24 -25 -26 -27 -28 -29 30 -31 -32 -33 -34 -35 -36 -37 -38 -39 -40 -41 -42 -43 -44 -45 -46 -47 -48 -49 -50 -51 -52 -53 -54 -55 -56 -57 -58 -59 60 -61 -62 -63 -64 -65 -66 -67 -68 -69 70 -71 -72 -73 -74 -75 -76 -77 -78 -79 -80 -81 -82 -83 -84 -85 -86 -87 -88 89 0\\n'"
      ]
     },
     "execution_count": 288,
     "metadata": {},
     "output_type": "execute_result"
    }
   ],
   "source": [
    "glucose(3,10, \"testsat4_10.cnf\", \"retoursat4_10.txt\")"
   ]
  },
  {
   "cell_type": "markdown",
   "metadata": {},
   "source": [
    "#### Question 4"
   ]
  },
  {
   "cell_type": "code",
   "execution_count": 289,
   "metadata": {},
   "outputs": [],
   "source": [
    "def decoder(filesortie, ne,nj):\n",
    "    with open(filesortie, \"r\") as fil:\n",
    "        m=fil.read()\n",
    "\n",
    "    if m==\"UNSAT\\n\":\n",
    "        print(\"insatisfiable\")\n",
    "        return False\n",
    "    \n",
    "    m=m.split(\" \")[:-1]\n",
    "    \n",
    "    m = [decodage(ne,nj,int(i)) for i in m if int(i)>0]\n",
    "    return m"
   ]
  },
  {
   "cell_type": "code",
   "execution_count": 290,
   "metadata": {},
   "outputs": [
    {
     "name": "stdout",
     "output_type": "stream",
     "text": [
      "[(2.0, 1.0, 0), (7.0, 0.0, 1), (14.0, 0.0, 2), (25.0, 1.0, 2), (40.0, 2.0, 0), (47.0, 2.0, 1)]\n"
     ]
    }
   ],
   "source": [
    "print(decoder(\"retoursat3_6.txt\", 3,6))"
   ]
  },
  {
   "cell_type": "code",
   "execution_count": 291,
   "metadata": {},
   "outputs": [
    {
     "name": "stdout",
     "output_type": "stream",
     "text": [
      "[(-9.0, 0.0, 3), (0.0, 2.0, 2), (22.0, 3.0, 1), (45.0, 2.0, 3), (64.0, 1.0, 1), (86.0, 2.0, 0)]\n"
     ]
    }
   ],
   "source": [
    "print(decoder(\"retoursat4_10.txt\", 4,10))"
   ]
  },
  {
   "cell_type": "markdown",
   "metadata": {},
   "source": [
    "#### Question 5"
   ]
  },
  {
   "cell_type": "code",
   "execution_count": 280,
   "metadata": {},
   "outputs": [],
   "source": [
    "def assemblage(fileequipe,filesortie,ne, nj):\n",
    "    equipe=[]\n",
    "    with open(fileequipe, \"r\") as eq:\n",
    "        for i in eq: \n",
    "            equipe.append(i)\n",
    "    l = decoder(filesortie, ne,nj)\n",
    "    if l == False:\n",
    "        return False\n",
    "    cpt=0\n",
    "    for (j,x,y) in l : \n",
    "        print(\"Journée n°\"+ str(j)+ \" : Equipe \"+ equipe[int(x)][:-1]+ \" VS Equipe \"+ equipe[int(y)])\n",
    "        cpt+=1\n",
    "    return cpt"
   ]
  },
  {
   "cell_type": "code",
   "execution_count": 281,
   "metadata": {},
   "outputs": [
    {
     "name": "stdout",
     "output_type": "stream",
     "text": [
      "Journée n°2.0 : Equipe Marseille VS Equipe Paris-SG\n",
      "\n",
      "Journée n°7.0 : Equipe Paris-SG VS Equipe Marseille\n",
      "\n",
      "Journée n°14.0 : Equipe Paris-SG VS Equipe Rennes\n",
      "\n",
      "Journée n°25.0 : Equipe Marseille VS Equipe Rennes\n",
      "\n",
      "Journée n°40.0 : Equipe Rennes VS Equipe Paris-SG\n",
      "\n",
      "Journée n°47.0 : Equipe Rennes VS Equipe Marseille\n",
      "\n"
     ]
    },
    {
     "data": {
      "text/plain": [
       "6"
      ]
     },
     "execution_count": 281,
     "metadata": {},
     "output_type": "execute_result"
    }
   ],
   "source": [
    "assemblage(\"equipe.txt\", \"retoursat3_6.txt\",3,6)"
   ]
  },
  {
   "cell_type": "code",
   "execution_count": 284,
   "metadata": {},
   "outputs": [
    {
     "name": "stdout",
     "output_type": "stream",
     "text": [
      "Journée n°-9.0 : Equipe Paris-SG VS Equipe Lille\n",
      "\n",
      "Journée n°0.0 : Equipe Rennes VS Equipe Rennes\n",
      "\n",
      "Journée n°22.0 : Equipe Lille VS Equipe Marseille\n",
      "\n",
      "Journée n°45.0 : Equipe Rennes VS Equipe Lille\n",
      "\n",
      "Journée n°64.0 : Equipe Marseille VS Equipe Marseille\n",
      "\n",
      "Journée n°86.0 : Equipe Rennes VS Equipe Paris-SG\n",
      "\n"
     ]
    },
    {
     "data": {
      "text/plain": [
       "6"
      ]
     },
     "execution_count": 284,
     "metadata": {},
     "output_type": "execute_result"
    }
   ],
   "source": [
    "assemblage(\"equipe.txt\", \"retoursat4_10.txt\",4,10)"
   ]
  },
  {
   "cell_type": "markdown",
   "metadata": {},
   "source": [
    "## Exercice 4 Optimisation du nombre de jours"
   ]
  },
  {
   "cell_type": "code",
   "execution_count": 271,
   "metadata": {},
   "outputs": [
    {
     "ename": "SyntaxError",
     "evalue": "invalid syntax (<ipython-input-271-713e5f3b661b>, line 4)",
     "output_type": "error",
     "traceback": [
      "\u001b[0;36m  File \u001b[0;32m\"<ipython-input-271-713e5f3b661b>\"\u001b[0;36m, line \u001b[0;32m4\u001b[0m\n\u001b[0;31m    res=assemblage(\"equipe.txt\", ,3,6)\u001b[0m\n\u001b[0m                                 ^\u001b[0m\n\u001b[0;31mSyntaxError\u001b[0m\u001b[0;31m:\u001b[0m invalid syntax\n"
     ]
    }
   ],
   "source": [
    "def nbjour():\n",
    "    for e in range(3,11):\n",
    "        for j in range (e*(e-1),100):\n",
    "            res=assemblage(\"equipe.txt\", ,3,6)\n",
    "            if res>0 :\n",
    "                print(\"pour \"+ str(e)+ \"equipe il faut \"+ str(res)+ \" jours minimum\")\n",
    "                break"
   ]
  },
  {
   "cell_type": "code",
   "execution_count": 272,
   "metadata": {},
   "outputs": [
    {
     "name": "stdout",
     "output_type": "stream",
     "text": [
      "Journée n°2.0 : Equipe Marseille VS Equipe Paris-SG\n",
      "\n",
      "Journée n°7.0 : Equipe Paris-SG VS Equipe Marseille\n",
      "\n",
      "Journée n°14.0 : Equipe Paris-SG VS Equipe Rennes\n",
      "\n",
      "Journée n°25.0 : Equipe Marseille VS Equipe Rennes\n",
      "\n",
      "Journée n°40.0 : Equipe Rennes VS Equipe Paris-SG\n",
      "\n",
      "Journée n°47.0 : Equipe Rennes VS Equipe Marseille\n",
      "\n",
      "pour 3equipe il faut 6 jours minimum\n",
      "Journée n°2.0 : Equipe Marseille VS Equipe Paris-SG\n",
      "\n",
      "Journée n°7.0 : Equipe Paris-SG VS Equipe Marseille\n",
      "\n",
      "Journée n°14.0 : Equipe Paris-SG VS Equipe Rennes\n",
      "\n",
      "Journée n°25.0 : Equipe Marseille VS Equipe Rennes\n",
      "\n",
      "Journée n°40.0 : Equipe Rennes VS Equipe Paris-SG\n",
      "\n",
      "Journée n°47.0 : Equipe Rennes VS Equipe Marseille\n",
      "\n",
      "pour 4equipe il faut 6 jours minimum\n",
      "Journée n°2.0 : Equipe Marseille VS Equipe Paris-SG\n",
      "\n",
      "Journée n°7.0 : Equipe Paris-SG VS Equipe Marseille\n",
      "\n",
      "Journée n°14.0 : Equipe Paris-SG VS Equipe Rennes\n",
      "\n",
      "Journée n°25.0 : Equipe Marseille VS Equipe Rennes\n",
      "\n",
      "Journée n°40.0 : Equipe Rennes VS Equipe Paris-SG\n",
      "\n",
      "Journée n°47.0 : Equipe Rennes VS Equipe Marseille\n",
      "\n",
      "pour 5equipe il faut 6 jours minimum\n",
      "Journée n°2.0 : Equipe Marseille VS Equipe Paris-SG\n",
      "\n",
      "Journée n°7.0 : Equipe Paris-SG VS Equipe Marseille\n",
      "\n",
      "Journée n°14.0 : Equipe Paris-SG VS Equipe Rennes\n",
      "\n",
      "Journée n°25.0 : Equipe Marseille VS Equipe Rennes\n",
      "\n",
      "Journée n°40.0 : Equipe Rennes VS Equipe Paris-SG\n",
      "\n",
      "Journée n°47.0 : Equipe Rennes VS Equipe Marseille\n",
      "\n",
      "pour 6equipe il faut 6 jours minimum\n",
      "Journée n°2.0 : Equipe Marseille VS Equipe Paris-SG\n",
      "\n",
      "Journée n°7.0 : Equipe Paris-SG VS Equipe Marseille\n",
      "\n",
      "Journée n°14.0 : Equipe Paris-SG VS Equipe Rennes\n",
      "\n",
      "Journée n°25.0 : Equipe Marseille VS Equipe Rennes\n",
      "\n",
      "Journée n°40.0 : Equipe Rennes VS Equipe Paris-SG\n",
      "\n",
      "Journée n°47.0 : Equipe Rennes VS Equipe Marseille\n",
      "\n",
      "pour 7equipe il faut 6 jours minimum\n",
      "Journée n°2.0 : Equipe Marseille VS Equipe Paris-SG\n",
      "\n",
      "Journée n°7.0 : Equipe Paris-SG VS Equipe Marseille\n",
      "\n",
      "Journée n°14.0 : Equipe Paris-SG VS Equipe Rennes\n",
      "\n",
      "Journée n°25.0 : Equipe Marseille VS Equipe Rennes\n",
      "\n",
      "Journée n°40.0 : Equipe Rennes VS Equipe Paris-SG\n",
      "\n",
      "Journée n°47.0 : Equipe Rennes VS Equipe Marseille\n",
      "\n",
      "pour 8equipe il faut 6 jours minimum\n",
      "Journée n°2.0 : Equipe Marseille VS Equipe Paris-SG\n",
      "\n",
      "Journée n°7.0 : Equipe Paris-SG VS Equipe Marseille\n",
      "\n",
      "Journée n°14.0 : Equipe Paris-SG VS Equipe Rennes\n",
      "\n",
      "Journée n°25.0 : Equipe Marseille VS Equipe Rennes\n",
      "\n",
      "Journée n°40.0 : Equipe Rennes VS Equipe Paris-SG\n",
      "\n",
      "Journée n°47.0 : Equipe Rennes VS Equipe Marseille\n",
      "\n",
      "pour 9equipe il faut 6 jours minimum\n",
      "Journée n°2.0 : Equipe Marseille VS Equipe Paris-SG\n",
      "\n",
      "Journée n°7.0 : Equipe Paris-SG VS Equipe Marseille\n",
      "\n",
      "Journée n°14.0 : Equipe Paris-SG VS Equipe Rennes\n",
      "\n",
      "Journée n°25.0 : Equipe Marseille VS Equipe Rennes\n",
      "\n",
      "Journée n°40.0 : Equipe Rennes VS Equipe Paris-SG\n",
      "\n",
      "Journée n°47.0 : Equipe Rennes VS Equipe Marseille\n",
      "\n",
      "pour 10equipe il faut 6 jours minimum\n"
     ]
    }
   ],
   "source": [
    "nbjour()"
   ]
  },
  {
   "cell_type": "code",
   "execution_count": null,
   "metadata": {},
   "outputs": [],
   "source": []
  }
 ],
 "metadata": {
  "kernelspec": {
   "display_name": "Python 3",
   "language": "python",
   "name": "python3"
  },
  "language_info": {
   "codemirror_mode": {
    "name": "ipython",
    "version": 3
   },
   "file_extension": ".py",
   "mimetype": "text/x-python",
   "name": "python",
   "nbconvert_exporter": "python",
   "pygments_lexer": "ipython3",
   "version": "3.7.3"
  }
 },
 "nbformat": 4,
 "nbformat_minor": 4
}
